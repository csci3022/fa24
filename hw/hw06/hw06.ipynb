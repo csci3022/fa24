{
 "cells": [
  {
   "cell_type": "code",
   "execution_count": null,
   "id": "64b60a64",
   "metadata": {
    "deletable": false,
    "editable": false
   },
   "outputs": [],
   "source": [
    "# Initialize Otter\n",
    "import otter\n",
    "grader = otter.Notebook(\"hw06.ipynb\")"
   ]
  },
  {
   "cell_type": "markdown",
   "id": "bbbf1431",
   "metadata": {},
   "source": [
    "# Homework 6: Probability Distributions"
   ]
  },
  {
   "cell_type": "markdown",
   "id": "2b1fa56f",
   "metadata": {},
   "source": [
    "\n",
    "\n",
    "## Due Date: FRIDAY, Oct 4th by 11:59 PM MT on Gradescope\n",
    "\n",
    "## Assignment Learning Objectives\n",
    " - Recognize when to use Bernoulli and Binomial Random Variables\n",
    " - Explain the difference between Probabilty Density Functions (PDFs) and Cumulative Density Functions (CDFs) and use both to calculate probabilities for continuous random variables\n",
    " - Know the PDF for a Uniform continuous random variable and use it to calculate probabilities\n",
    " - Know the PDF for an exponential continuous random variable and use it to calculate probabilities\n",
    " - Know the PDF for a normal continuous random variable and use it to calculate probabilities\n",
    "\n",
    "\n",
    "## Collaboration Policy\n",
    "\n",
    "Data science is a collaborative activity.  However a key step in learning and retention is **creating solutions on your own.**  \n",
    "\n",
    "Below are examples of acceptable vs unacceptable use of resources and collaboration when doing HW assignments in CSCI 3022.\n",
    "\n",
    "\n",
    "The following would be some **examples of cheating** when working on HW assignments in CSCI 3022.  Any of these constitute a **violation of the course's collaboration policy and will result in an F in the course and a trip to the honor council**.   \n",
    "\n",
    "\n",
    " - Consulting web pages that may have a solution to a given homework problem or one similar is cheating.  However, consulting the class notes, and web pages that explain the material taught in class but do NOT show a solution to the homework problem in question are permissible to view.  Clearly, there's a fuzzy line here between a valid use of resources and cheating. To avoid this line, one should merely consult the course notes, the course textbook, and references that contain syntax and/or formulas.\n",
    " - Copying a segment of code or math solution of three lines or more from another student from a printout, handwritten copy, or by looking at their computer screen \n",
    " - Allowing another student to copy a segment of your code or math solution of three lines or more\n",
    " - Taking a copy of another student's work (or a solution found online) and then editing that copy\n",
    " - Reading someone else’s solution to a problem on the HW before writing your own.\n",
    " - Asking someone to write all or part of a program or solution for you.\n",
    " - Asking someone else for the code necessary to fix the error for you, other than for simple syntactical errors\n",
    " \n",
    "\n",
    "\n",
    "On the other hand, the following are some **examples of things which would NOT usually be\n",
    "considered to be cheating**:\n",
    " - Working on a HW problem on your own first and then discussing with a classmate a particular part in the problem solution where you are stuck.  After clarifying any questions you should then continue to write your solution independently.\n",
    " - Asking someone (or searching online) how a particular construct in the language works.\n",
    " - Asking someone (or searching online) how to formulate a particular construct in the language.\n",
    " - Asking someone for help in finding an error in your program.  \n",
    " - Asking someone why a particular construct does not work as you expected in a given program.\n",
    "   \n",
    "\n",
    "To test whether you are truly doing your own work and retaining what you've learned you should be able to easily reproduce from scratch and explain a HW solution that was your own when asked in office hours by a TA/Instructor or on a quiz/exam.   \n",
    "\n",
    "\n",
    "If you have difficulty in formulating the general solution to a problem on your own, or\n",
    "you have difficulty in translating that general solution into a program, it is advisable to see\n",
    "your instructor or teaching assistant rather than another student as this situation can easily\n",
    "lead to a, possibly inadvertent, cheating situation.\n",
    "\n",
    "We are here to help!  Visit HW Hours and/or post questions on Piazza!\n"
   ]
  },
  {
   "cell_type": "markdown",
   "id": "b040a7c3-e466-403d-9884-5b8969f8aec3",
   "metadata": {},
   "source": [
    "If while completing this assignment you reference any websites other than those linked in this assignment or provided on Canvas please list those references here:\n",
    "\n",
    "**External references**:  *list any websites you referenced"
   ]
  },
  {
   "cell_type": "markdown",
   "id": "1ee34b34-778f-48d8-87a7-173cd97a049c",
   "metadata": {},
   "source": [
    "#### Grading\n",
    "Grading is broken down into autograded answers and manually graded answers. \n",
    "\n",
    "For autograded answers, the results of your code are compared to provided and/or hidden tests.\n",
    "\n",
    "For manually graded answers you must show and explain all steps.  Graders will evaluate how well you answered the question and/or fulfilled the requirements of the question.\n",
    "\n",
    "\n",
    "### Score breakdown\n",
    "\n",
    "\n",
    "\n",
    "Question | Points | Grading Type\n",
    "--- | --- | ---\n",
    "Question 1adf | 11 | manual\n",
    "Question 1bce | 8 | manual\n",
    "Question 2 | 9 | manual\n",
    "Question 3 | 6 | manual\n",
    "Question 4a | 4 | manual\n",
    "Question 4b | 2 | auto\n",
    "Question 5ac |5 | manual\n",
    "Question 5bc |5 | auto\n",
    "|Total | 50\n"
   ]
  },
  {
   "cell_type": "markdown",
   "id": "814b4089-42d2-4c4a-96ed-82b9a5745d46",
   "metadata": {},
   "source": [
    "<a id='top'></a>\n",
    "---\n",
    "**Shortcuts:**  [Problem 2](#p2) | [Problem 3](#p3) | [Problem 4](#p4) | [Problem 5](#p5) |\n",
    "---\n",
    "<hr style=\"border: 5px solid #003262;\" />\n",
    "<hr style=\"border: 1px solid #fdb515;\" />"
   ]
  },
  {
   "cell_type": "code",
   "execution_count": null,
   "id": "4a8b68c6-e69d-4da4-a604-265b23aedf84",
   "metadata": {
    "scrolled": true
   },
   "outputs": [],
   "source": [
    "import numpy as np\n",
    "import pandas as pd\n",
    "import math\n",
    "from scipy import special\n",
    "import matplotlib\n",
    "import matplotlib.pyplot as plt\n",
    "from matplotlib.ticker import PercentFormatter\n",
    "import seaborn as sns\n",
    "import hashlib\n",
    "from IPython.display import display, Latex, Markdown\n",
    "import simple_latex_checker as slc\n",
    "\n",
    "plt.style.use('fivethirtyeight')\n",
    "# Default plot configurations\n",
    "plt.rcParams['figure.figsize'] = (16,8)\n",
    "plt.rcParams['figure.dpi'] = 150\n",
    "sns.set()\n",
    "import warnings\n",
    "warnings.simplefilter('ignore', FutureWarning)\n",
    "\n",
    "\n",
    "def get_hash(num):\n",
    "    \"\"\"Helper function for assessing correctness\"\"\"\n",
    "    return hashlib.md5(str(num).encode()).hexdigest()\n",
    "\n",
    "%matplotlib inline"
   ]
  },
  {
   "cell_type": "markdown",
   "id": "cf3224c9-667a-4679-a6fb-5521aef94253",
   "metadata": {
    "deletable": false,
    "editable": false
   },
   "source": [
    "<!-- BEGIN QUESTION -->\n",
    "\n",
    "<hr style=\"border: 5px solid #003262;\" />\n",
    "<hr style=\"border: 1px solid #fdb515;\" />\n",
    "\n",
    "## <span style='color:Red'>  Question 1  ##\n",
    "\n",
    "In the general population, approximately $10\\%$ of people are left-handed.  You randomly sample (with replacement) $75$ people from the general population.  \n",
    "\n",
    "\n",
    "### <span style='color:Red'>  Question 1a (3 pts)  ##\n",
    "Answer each of the following questions using Markdown in the same cell below.\n",
    "\n",
    "\n",
    "\n",
    " - **i).**  Let $X$ be the random variable that is the number of people in your sample who are left handed.   Define how $X$ is distributed using the notation $X\\sim DistributionNickName(parameter\\_values)$.  \n",
    "\n",
    " \n",
    " - **ii).** What is the support of $X$?\n",
    "\n",
    " -  **iii).**  What is the PMF of $X$? (Give your answer as a closed-form function)\n",
    "\n",
    "\n",
    "Answer all of the questions above in the same LaTeX cell below. \n",
    "\n",
    "\n",
    "\n"
   ]
  },
  {
   "cell_type": "markdown",
   "id": "1082dd2b",
   "metadata": {},
   "source": [
    "_Type your answer here, replacing this text._"
   ]
  },
  {
   "cell_type": "markdown",
   "id": "2ce4973b-b206-4e40-beee-5772dc7f3c1e",
   "metadata": {
    "deletable": false,
    "editable": false
   },
   "source": [
    "<!-- END QUESTION -->\n",
    "\n",
    "### <span style='color:Red'>  Question 1b (4 pts)  ##\n",
    "Calculate the following in the code cell below.  \n",
    "\n",
    " - **i).**  What is the probability $8$ people in your sample are left-handed?  \n",
    "\n",
    "\n",
    "\n",
    " - **ii).**  What is the probability that **at least** $8$ people and **at most** $10$ people in your sample are left-handed?  \n",
    "\n",
    " - **iii).**  What is $E[X]$?   (you can use the formula we derived in class)\n",
    " \n",
    " - **iv).**  What is $SD[X]$?    (you can use the formula we derived in class)\n"
   ]
  },
  {
   "cell_type": "code",
   "execution_count": null,
   "id": "89ae0e56-ca66-4199-9efd-b3bcbf9689da",
   "metadata": {
    "tags": []
   },
   "outputs": [],
   "source": [
    "...\n",
    "\n",
    "#i). \n",
    "prob_8 = ...\n",
    "print(\"Prob of exactly 8 left-handed people = \", round(prob_8,3))\n",
    "\n",
    "#ii).\n",
    "prob_8_to_10 = ...\n",
    "print(\"Prob of between 8 and 10 left-handed people = \", round(prob_8_to_10,3))\n",
    "\n",
    "#iii).\n",
    "ev_X = ...\n",
    "print(\"Expected Value of X = \", ev_X)\n",
    "\n",
    "#iv).\n",
    "sd_X = ...\n",
    "print(\"Standard Deviation of X = \", round(sd_X,3))\n"
   ]
  },
  {
   "cell_type": "code",
   "execution_count": null,
   "id": "491e2805",
   "metadata": {
    "deletable": false,
    "editable": false
   },
   "outputs": [],
   "source": [
    "grader.check(\"1b\")"
   ]
  },
  {
   "cell_type": "markdown",
   "id": "d3a9cdd4-7aca-4806-976c-1a38eecb24b0",
   "metadata": {
    "deletable": false,
    "editable": false
   },
   "source": [
    "<hr style=\"border: 5px solid #003262;\" />\n",
    "<hr style=\"border: 1px solid #fdb515;\" />\n",
    "\n",
    "## <span style='color:Red'>  Question 1c (1 pt)"
   ]
  },
  {
   "cell_type": "markdown",
   "id": "2e63cfa1-1126-4adf-8c56-2596cb1314a7",
   "metadata": {
    "deletable": false,
    "editable": false
   },
   "source": [
    "### Built-In Python Functions\n",
    "\n",
    "Python's scientific computing library `scipy` has a `stats` module with built-in functions for many commonly used Random Variables:\n",
    "https://docs.scipy.org/doc/scipy/reference/stats.html\n",
    "\n",
    "\n"
   ]
  },
  {
   "cell_type": "code",
   "execution_count": null,
   "id": "f84ad8a8-538c-465e-a684-a862111945e7",
   "metadata": {
    "deletable": false,
    "editable": false
   },
   "outputs": [],
   "source": [
    "import scipy.stats as stats"
   ]
  },
  {
   "cell_type": "markdown",
   "id": "d7df5514-aab4-43e1-85f6-b1bb3bdef662",
   "metadata": {
    "deletable": false,
    "editable": false,
    "tags": []
   },
   "source": [
    " - Read the documentation for `stats.binom`: https://docs.scipy.org/doc/scipy/reference/generated/scipy.stats.binom.html.\n",
    " \n",
    " - Then recalculate part 1b(i) above using `stats.binom.pmf()`.  (That is, calculate the probability $8$ people in your sample are left-handed)"
   ]
  },
  {
   "cell_type": "code",
   "execution_count": null,
   "id": "89e890e3-96eb-400d-8274-7af9ffb7e7cd",
   "metadata": {
    "tags": []
   },
   "outputs": [],
   "source": [
    "#Recalculate part 1b(i) above using stats.binom.pmf()\n",
    "\n",
    "bi_recalculated = ...\n",
    "\n",
    "round(bi_recalculated,3)"
   ]
  },
  {
   "cell_type": "code",
   "execution_count": null,
   "id": "b3371888",
   "metadata": {
    "deletable": false,
    "editable": false
   },
   "outputs": [],
   "source": [
    "grader.check(\"1c\")"
   ]
  },
  {
   "cell_type": "markdown",
   "id": "ef0f1775-a274-4931-a294-314caf86f35a",
   "metadata": {
    "deletable": false,
    "editable": false
   },
   "source": [
    "<!-- BEGIN QUESTION -->\n",
    "\n",
    "<hr style=\"border: 5px solid #003262;\" />\n",
    "<hr style=\"border: 1px solid #fdb515;\" />\n",
    "\n",
    "## <span style='color:Red'>  Question 1d (3 pts)"
   ]
  },
  {
   "cell_type": "markdown",
   "id": "4311cbbd-c3b4-48df-a093-6bc09375f63c",
   "metadata": {
    "deletable": false,
    "editable": false
   },
   "source": [
    "To plot a histogram of the distribution of $X$, \n",
    "use  `stats.binom.pmf` to define the pmf array in the code below.  \n",
    "Be sure to also fill in the missing parameters in the title of the plot."
   ]
  },
  {
   "cell_type": "code",
   "execution_count": null,
   "id": "900c4668-88aa-4af1-9bb8-791bc27f7024",
   "metadata": {
    "tags": []
   },
   "outputs": [],
   "source": [
    "\n",
    "X = np.array(range(76)) \n",
    "\n",
    "pmf = ...\n",
    "\n",
    "fig, ax = plt.subplots()\n",
    "\n",
    "# Note: to plot this distribution we can't use .hist, because we don't have an array of data, \n",
    "# Instead we use .bar because we have a list of probabilities \n",
    "\n",
    "ax.bar(X, pmf);\n",
    "\n",
    "plt.xlim(0,75)\n",
    "\n",
    "plt.title(\"Binomial Distribution,n=..., p=...\");"
   ]
  },
  {
   "cell_type": "markdown",
   "id": "f10d13c1-831d-43fa-ab48-e53be371e570",
   "metadata": {
    "deletable": false,
    "editable": false
   },
   "source": [
    "<!-- END QUESTION -->\n",
    "\n",
    "<hr style=\"border: 5px solid #003262;\" />\n",
    "<hr style=\"border: 1px solid #fdb515;\" />\n",
    "\n",
    "## <span style='color:Red'>  Question 1e (2 points)"
   ]
  },
  {
   "cell_type": "markdown",
   "id": "814d0a6a-7d47-4a1d-8ac8-4f6203b2bd26",
   "metadata": {
    "deletable": false,
    "editable": false
   },
   "source": [
    "\n",
    "The Cumulative Distribution Function (CDF), $F(a)$ of a Random Variable $X$ is defined as:\n",
    "\n",
    "$F(a) = P(X \\leq a)$\n",
    "\n",
    "`scipy.stats` has the cdf as a built-in function.  \n",
    "\n",
    "\n",
    "**Use `stats.binom.cdf()` to calculate the following probabilities:** \n",
    "\n",
    " - **i).** What is the probability that **at most** $10$ people in your sample are left-handed?\n",
    "\n",
    " - **ii).**  Re-do of question 1b(ii) using the CDF function:  What is the probability that **at least** $8$ people and **at most** $10$ people in your sample are left-handed?    (Hint: you will need to use subtraction as part of your calculation).\n"
   ]
  },
  {
   "cell_type": "code",
   "execution_count": null,
   "id": "6cab616f-6a46-4e62-b0fd-fa4ba0ab12bd",
   "metadata": {
    "tags": []
   },
   "outputs": [],
   "source": [
    "prob_at_most_10 = ...\n",
    "print(round(prob_at_most_10, 3))\n",
    "\n",
    "prob_8_to_10 = ...\n",
    "print(round(prob_8_to_10, 3))"
   ]
  },
  {
   "cell_type": "code",
   "execution_count": null,
   "id": "35f4b09b",
   "metadata": {
    "deletable": false,
    "editable": false
   },
   "outputs": [],
   "source": [
    "grader.check(\"q1e\")"
   ]
  },
  {
   "cell_type": "markdown",
   "id": "60a1dd08-5d1d-46f6-9efe-efeba061477f",
   "metadata": {
    "tags": []
   },
   "source": [
    "**Randomly Sampling From a Distribution** "
   ]
  },
  {
   "cell_type": "markdown",
   "id": "6d8847ae-3080-4b94-ad0b-f616c4681693",
   "metadata": {},
   "source": [
    "\n",
    "Numpy has a built in `random` function that can generate random samples from a wide variety of distributions.\n",
    "\n",
    "\n",
    "\n",
    "To generate random samples from a Binomial distribution we can use  Numpy's `random.binomial` function. \n",
    "\n",
    " - Read the documentation (https://numpy.org/doc/stable/reference/random/generated/numpy.random.binomial.html),\n",
    " -  Then run the code below to randomly sample 15 times from a Binomial distribution with $n=75$ and $p = 0.10$:"
   ]
  },
  {
   "cell_type": "code",
   "execution_count": null,
   "id": "d5450ef3-eeb6-43d1-abbe-f3aaf1bc0e97",
   "metadata": {},
   "outputs": [],
   "source": [
    "x = np.random.binomial(75, .10, 15)\n",
    "x"
   ]
  },
  {
   "cell_type": "markdown",
   "id": "f065b545-b1d1-4509-8a1d-2478071ec403",
   "metadata": {
    "deletable": false,
    "editable": false
   },
   "source": [
    "<!-- BEGIN QUESTION -->\n",
    "\n",
    "<hr style=\"border: 5px solid #003262;\" />\n",
    "<hr style=\"border: 1px solid #fdb515;\" />\n",
    "\n",
    "## <span style='color:Red'>  Question 1f (5 points)"
   ]
  },
  {
   "cell_type": "markdown",
   "id": "3e912b5a-1657-49b4-b95c-016e45a36639",
   "metadata": {
    "deletable": false,
    "editable": false
   },
   "source": [
    "We can approximate the theoretical distribution of _Bin(n,p)_ by drawing many random samples from the distribution and plotting a **density** histogram of the sample data. \n",
    "\n",
    "In the code below, you are going to repeatedly draw random samples from a Bin(75, 0.10) distribution using sample sizes of 50, 5000 and 50000 and plot the resulting empirical distributions of your samples.  \n",
    "\n",
    "You'll then compare this to the theoretical distribution you plotted in 1d.\n",
    "\n",
    "Fill in all the ellipses (...) in the code below to complete this.\n",
    "\n",
    "\n",
    "You should see that the empirical distributions approach the theoretical distribution as the sample size increases.  \n",
    "\n",
    "\n",
    "\n"
   ]
  },
  {
   "cell_type": "code",
   "execution_count": null,
   "id": "8258dc87-33a7-42e8-89bd-e04fc044c7f2",
   "metadata": {
    "tags": []
   },
   "outputs": [],
   "source": [
    "\n",
    "#Randomly sample 50 values from Bin(75,0.10)\n",
    "sample_50 = ...\n",
    "\n",
    "#Randomly sample 5000 values from Bin(75,0.10) \n",
    "sample_5000 = ...\n",
    "\n",
    "\n",
    "#Randomly sample 50000 values from Bin(75,0.10) \n",
    "sample_50000 = ...\n",
    "\n",
    "# Create a figure that will have 4 subplots (4 histograms))\n",
    "fig, ax = plt.subplots(nrows=4, ncols=1, figsize = (3,5))\n",
    "\n",
    "\n",
    "plt.subplots_adjust(hspace=1)\n",
    "\n",
    "# Plot a density histogram of the sample data of size 50\n",
    "# ax[0] indicates we are going to plot this distribution in the first out of 4 subplots\n",
    "# Use density histogram because we are binning a list of simulated numbers to estimate the probabilities\n",
    "ax[0].hist(sample_50, density=True, bins = np.arange(-0.5, 100, 1))\n",
    "ax[0].set_axisbelow(True)\n",
    "ax[0].grid(alpha=0.25)\n",
    "ax[0].set_xlim([0, 25]);\n",
    "ax[0].set_title(\"Simulated Bin(75, 0.10) distribution using sample of size 50\")\n",
    "\n",
    "\n",
    "\n",
    "# Use the same format as above to plot \n",
    "# a density histogram of the sample data of size 5000.\n",
    "# Note, to put this as the 2nd plot out of 4, use ax[1] (instead of ax[0])\n",
    "...\n",
    "ax[1].set_axisbelow(True)\n",
    "ax[1].grid(alpha=0.25)\n",
    "ax[1].set_xlim([0, 25]);\n",
    "ax[1].set_title(\"Simulated Bin(75, 0.10) distribution using sample of size 5000\")\n",
    "\n",
    "# Plot a density histogram of the sample data of size 50000\n",
    "...\n",
    "ax[2].set_axisbelow(True)\n",
    "ax[2].grid(alpha=0.25)\n",
    "ax[2].set_xlim([0, 25]);\n",
    "ax[2].set_title(\"Simulated Bin(75, 0.10) distribution using sample of size 50000\")\n",
    "\n",
    "\n",
    "# Plot the actual theoretical distribution.  Use bar because we know the exact probabilities:\n",
    "...\n",
    "ax[3].set_axisbelow(True)\n",
    "ax[3].grid(alpha=0.25);\n",
    "ax[3].set_xlim([0, 25]);\n",
    "ax[3].set_title(\"Theoretical Binomial Distribution, n=75, p=0.10\")\n",
    "\n"
   ]
  },
  {
   "cell_type": "markdown",
   "id": "d8e52e30-ef86-41f8-9feb-10ad181f547d",
   "metadata": {
    "deletable": false,
    "editable": false
   },
   "source": [
    "<!-- END QUESTION -->\n",
    "\n",
    "\n",
    "You should see that the simulated/empirical distributions approach the theoretical distribution as the sample size increases.  "
   ]
  },
  {
   "cell_type": "markdown",
   "id": "b12e9fa3-c48f-4525-8f14-a2ced50c9d36",
   "metadata": {
    "deletable": false,
    "editable": false
   },
   "source": [
    "<!-- BEGIN QUESTION -->\n",
    "\n",
    "[Back to top](#top)\n",
    "\n",
    "<a id='p2'></a>\n",
    "\n",
    "\n",
    "<hr style=\"border: 5px solid #003262;\" />\n",
    "<hr style=\"border: 1px solid #fdb515;\" />\n",
    "\n",
    "## <span style='color:Red'>  Question 2 (9 points) ##\n"
   ]
  },
  {
   "cell_type": "markdown",
   "id": "1ca2d6a3-bef1-46de-b64c-3ba63974cf24",
   "metadata": {
    "deletable": false,
    "editable": false
   },
   "source": [
    "Let $X$ be a continuous random variable with support $1 \\leq x \\leq 7$.  \n",
    "\n",
    "The graph of the PDF $f(x)$ for $X$ is shown here:\n",
    "\n",
    "<img src=\"img/PDF.png\" width=\"500\"> \n",
    "\n",
    "a).  What is $P(X \\leq 5)$?  Show all work using LaTex and give your final answer as a fully simplified fraction.\n",
    "\n",
    "b).  What is $E[X]$?  Show all work using LaTeX and give your final answer as a fully simplified fraction.\n",
    "\n",
    "\n",
    "Answer both questions in the same cell below using LaTeX.\n"
   ]
  },
  {
   "cell_type": "markdown",
   "id": "97f73bdf",
   "metadata": {},
   "source": [
    "_Type your answer here, replacing this text._"
   ]
  },
  {
   "cell_type": "markdown",
   "id": "0b8cf2a9-05c5-4763-8221-2e8d37a3339a",
   "metadata": {
    "deletable": false,
    "editable": false
   },
   "source": [
    "<!-- END QUESTION -->\n",
    "\n",
    "To check your answer to 2a enter it below.  Note that this autograder test is not worth any points, it's just for you to check your work above to make sure you're on the right track. "
   ]
  },
  {
   "cell_type": "code",
   "execution_count": null,
   "id": "aa366f26-d153-486a-ac6a-a9873f7ae7d1",
   "metadata": {
    "tags": []
   },
   "outputs": [],
   "source": [
    "answer_2a = ...\n",
    "answer_2a"
   ]
  },
  {
   "cell_type": "code",
   "execution_count": null,
   "id": "42257516",
   "metadata": {
    "deletable": false,
    "editable": false
   },
   "outputs": [],
   "source": [
    "grader.check(\"q2a_check\")"
   ]
  },
  {
   "cell_type": "markdown",
   "id": "92edab82-3d1d-4fce-a5e9-83fbf5221fbb",
   "metadata": {
    "deletable": false,
    "editable": false
   },
   "source": [
    "<!-- BEGIN QUESTION -->\n",
    "\n",
    "[Back to top](#top)\n",
    "\n",
    "<a id='p3'></a>\n",
    "\n",
    "<hr style=\"border: 5px solid #003262;\" />\n",
    "<hr style=\"border: 1px solid #fdb515;\" />\n",
    "\n",
    "## <span style='color:Red'>  Question 3 (6 points)"
   ]
  },
  {
   "cell_type": "markdown",
   "id": "5cfeca99-f4e8-4c54-82ce-59d7bdb6b14f",
   "metadata": {
    "deletable": false,
    "editable": false
   },
   "source": [
    "A factory manufactures solid state hard drives for Seagate Technology. \n",
    "\n",
    "For each scenario described below: \n",
    " - i).  State the distribution you could use to model this random variable in the form $RandomVariable\\sim DistributionName(parameter\\_values)$\n",
    " \n",
    " - ii).  State any assumptions you need to make to use this distribution to model this situation.  \n",
    "\n",
    " - iii). State the support of the Random Variable.\n",
    "\n",
    "\n",
    "\n",
    " - iv).  Give the probability distribution for the random variable (i.e. either the pmf or pdf) as a closed-form function.\n",
    "\n",
    "\n",
    " \n",
    "\n",
    "SCENARIOS:\n",
    "\n",
    "\n",
    "**a).**    Approximately $4\\%$ of hard drives that come off of a particular assembly line are defective.  Let $Y$ be the number that are defective in a batch of $300$.  \n",
    "\n",
    "**b).**  Approximately $4\\%$ of hard drives that come off of a particular assembly line are defective.   Let $W$ be whether or not a hard drive is defective.  \n",
    "\n",
    "**c).**  On average, there are  $8$ defective drives per day.  Let $X$ be the time (in hours) between defective drives.\n",
    "\n",
    "\n",
    "Answer all parts (a-c) below in the same cell:\n",
    "\n"
   ]
  },
  {
   "cell_type": "markdown",
   "id": "ef837bd9",
   "metadata": {},
   "source": [
    "_Type your answer here, replacing this text._"
   ]
  },
  {
   "cell_type": "markdown",
   "id": "f9796eff-8e87-44f6-9c0c-99ae2ec747f1",
   "metadata": {
    "deletable": false,
    "editable": false
   },
   "source": [
    "<!-- END QUESTION -->\n",
    "\n",
    "[Back to top](#top)\n",
    "\n",
    "<a id='p4'></a>\n",
    "\n",
    "<hr style=\"border: 5px solid #003262;\" />\n",
    "<hr style=\"border: 1px solid #fdb515;\" />\n",
    "\n",
    "## <span style='color:Red'>  Question 4 "
   ]
  },
  {
   "cell_type": "markdown",
   "id": "8a686f53-6156-4b17-b2f7-c6051b477c37",
   "metadata": {},
   "source": [
    "The Huffmeister floodplane in Houston has historically been estimated to flood at an average rate of $1$ flood every $500$ years. A flood plane with that rate of flooding is called a $500$ year floodplane.      You can assume the time that each flood occurs is independent and the average number of floods over time is constant.  "
   ]
  },
  {
   "cell_type": "markdown",
   "id": "770edb52-4e15-4685-ae74-e72e725c1beb",
   "metadata": {
    "deletable": false,
    "editable": false
   },
   "source": [
    "<!-- BEGIN QUESTION -->\n",
    "\n",
    "### <span style='color:Red'>  Question 4a (4 points)\n",
    "\n",
    "What is the probability that a flood will occur within the next 95 years?   Fully justify/show all steps and write your answer using LaTeX.  Round your final answer to 3 decimal places.  "
   ]
  },
  {
   "cell_type": "markdown",
   "id": "132c0ad6",
   "metadata": {},
   "source": [
    "_Type your answer here, replacing this text._"
   ]
  },
  {
   "cell_type": "markdown",
   "id": "3def8d81-3272-4ddc-a1e3-be23f861702e",
   "metadata": {
    "deletable": false,
    "editable": false
   },
   "source": [
    "<!-- END QUESTION -->\n",
    "\n",
    "To check your answer to part (a), enter it in the cell below.  Note that this check is not worth any points.  To receive credit you must fully justify your answer in the cell above."
   ]
  },
  {
   "cell_type": "code",
   "execution_count": null,
   "id": "2d177140-11ea-45bb-9198-32735a519771",
   "metadata": {
    "tags": []
   },
   "outputs": [],
   "source": [
    "q4a_answer = ..."
   ]
  },
  {
   "cell_type": "code",
   "execution_count": null,
   "id": "d56838cc",
   "metadata": {
    "deletable": false,
    "editable": false
   },
   "outputs": [],
   "source": [
    "grader.check(\"q4a_check\")"
   ]
  },
  {
   "cell_type": "markdown",
   "id": "b1b3d1ad-647c-41b0-bce7-21ca504213dc",
   "metadata": {
    "deletable": false,
    "editable": false
   },
   "source": [
    "### <span style='color:Red'>  Question 4b (2 points)\n",
    "\n",
    "What is the **expected number** of years until the next flood?"
   ]
  },
  {
   "cell_type": "code",
   "execution_count": null,
   "id": "b45fb05d-0e99-4f1f-a188-63047a02ed3a",
   "metadata": {
    "tags": []
   },
   "outputs": [],
   "source": [
    "q4b_answer = ..."
   ]
  },
  {
   "cell_type": "code",
   "execution_count": null,
   "id": "cfaeab7c",
   "metadata": {
    "deletable": false,
    "editable": false
   },
   "outputs": [],
   "source": [
    "grader.check(\"q4b\")"
   ]
  },
  {
   "cell_type": "markdown",
   "id": "22a87d14-c1f3-40d4-b045-f3e525c353ed",
   "metadata": {},
   "source": [
    "[Back to top](#top)\n",
    "\n",
    "<a id='p5'></a>\n",
    "\n",
    "<hr style=\"border: 5px solid #003262;\" />\n",
    "<hr style=\"border: 1px solid #fdb515;\" />\n",
    "\n",
    "## <span style='color:Red'>  Question 5 "
   ]
  },
  {
   "cell_type": "markdown",
   "id": "8bad3c78-d6aa-4b58-8d0a-390cfb27c4c9",
   "metadata": {},
   "source": [
    "The weekly amount of money spent on maintainence and repairs by a company was observed over a long period of time to be approximately normally distributed with mean $\\$500$ and variance $\\$400$.   \n",
    "\n",
    "Let $W$ represent the weekly amount of money spent on maintenance/repairs.  \n",
    "\n",
    "That is, $W \\sim N(500,400)$.\n",
    "\n",
    "\n"
   ]
  },
  {
   "cell_type": "markdown",
   "id": "e6489b99-2862-4e16-b3f6-d50707547776",
   "metadata": {
    "deletable": false,
    "editable": false
   },
   "source": [
    "<!-- BEGIN QUESTION -->\n",
    "\n",
    "<hr style=\"border: 5px solid #003262;\" />\n",
    "<hr style=\"border: 1px solid #fdb515;\" />\n",
    "\n",
    "## <span style='color:Red'>  Question 5a (2 points)"
   ]
  },
  {
   "cell_type": "markdown",
   "id": "b973c92c-49d2-465b-9a9b-cde3999232cc",
   "metadata": {
    "deletable": false,
    "editable": false
   },
   "source": [
    "Graph the pdf of $W$ on the domain $400\\leq W \\leq600$ \n",
    "\n",
    "(Hint: use `plt.plot` and an appropriate method from  `scipy.stats.norm`: \n",
    "https://docs.scipy.org/doc/scipy/reference/generated/scipy.stats.norm.html). **Be sure to carefully read what parameters the method takes as inputs.**\n",
    "\n"
   ]
  },
  {
   "cell_type": "code",
   "execution_count": null,
   "id": "3c154b27-2ce1-45d5-9d23-0db45ca06f0f",
   "metadata": {
    "tags": []
   },
   "outputs": [],
   "source": [
    "\n",
    "# Create a vector of w values between 400 and 600\n",
    "w = np.linspace(400, 600, 1000) \n",
    "\n",
    "...\n",
    "# Your code above this line\n",
    "\n",
    "\n",
    "plt.title(\"PDF of W ~ N(500, 400)\")\n",
    "plt.ylabel(\"probability density\")\n",
    "plt.xlabel(\"W\")\n",
    "\n",
    "\n",
    "plt.show()"
   ]
  },
  {
   "cell_type": "markdown",
   "id": "b8b767c9-d769-43a7-a97b-6c2686f0042a",
   "metadata": {
    "deletable": false,
    "editable": false
   },
   "source": [
    "<!-- END QUESTION -->\n",
    "\n",
    "<hr style=\"border: 5px solid #003262;\" />\n",
    "<hr style=\"border: 1px solid #fdb515;\" />\n",
    "\n",
    "## <span style='color:Red'>  Question 5b (2 points)"
   ]
  },
  {
   "cell_type": "markdown",
   "id": "b7f2401b-54d6-4ac4-b0cc-99fcdb024d38",
   "metadata": {
    "deletable": false,
    "editable": false
   },
   "source": [
    "If $\\$475$ is budgeted for next week, what is the probability that the actual costs will exceed the budgeted amount?   \n",
    "\n",
    "Use an appropriate method from  `scipy.stats.norm` to calculate this:\n",
    "https://docs.scipy.org/doc/scipy/reference/generated/scipy.stats.norm.html\n",
    "\n"
   ]
  },
  {
   "cell_type": "code",
   "execution_count": null,
   "id": "8acd2799-ab9e-43a6-930f-67dbaacb8958",
   "metadata": {
    "tags": []
   },
   "outputs": [],
   "source": [
    "exceed_budget = ...\n",
    "\n",
    "print(\"P(W > 475) = {:.4f}\".format(exceed_budget))"
   ]
  },
  {
   "cell_type": "markdown",
   "id": "f28dc38e-afae-4e76-8909-9e7c42f7f7af",
   "metadata": {},
   "source": [
    "We can show graphically what your answer above means using the following code.  Read through the code so you understand what it is doing."
   ]
  },
  {
   "cell_type": "code",
   "execution_count": null,
   "id": "4a180d55-1257-44bc-ad49-4c585dbc8625",
   "metadata": {},
   "outputs": [],
   "source": [
    "\n",
    "\n",
    "w = np.linspace(400, 600, 1000)\n",
    "\n",
    "# Plot the PDF \n",
    "plt.plot(w, stats.norm.pdf(w,500,20))\n",
    "\n",
    "# Shade the area that represents the probability we calculated\n",
    "(\n",
    "plt.fill_between(w, stats.norm.pdf(w,500,20), \n",
    "                 where=[(w > 475)  for w in w], \n",
    "                 label='P(W>475) = '+str(round(exceed_budget,2)), \n",
    "                 alpha=0.4)\n",
    ")\n",
    "\n",
    "\n",
    "# Add labels to show where the shaded region starts/ends\n",
    "labels=[400, 475, 600]\n",
    "plt.xticks(labels)\n",
    "plt.legend()\n",
    "plt.title(\"PDF of W ~ N(500, 400)\")\n",
    "plt.ylabel(\"probability density\")\n",
    "plt.xlabel(\"W\")\n",
    "\n",
    "\n",
    "\n",
    "\n",
    "plt.show()"
   ]
  },
  {
   "cell_type": "markdown",
   "id": "5582a703-1eab-4037-9e19-d5362e6bf6b2",
   "metadata": {
    "deletable": false,
    "editable": false
   },
   "source": [
    "<!-- BEGIN QUESTION -->\n",
    "\n",
    "<hr style=\"border: 5px solid #003262;\" />\n",
    "<hr style=\"border: 1px solid #fdb515;\" />\n",
    "\n",
    "## <span style='color:Red'>  Question 5c (6 points)"
   ]
  },
  {
   "cell_type": "markdown",
   "id": "fa0d0e42-f783-4849-a495-f8eecebb4be7",
   "metadata": {
    "deletable": false,
    "editable": false
   },
   "source": [
    "i).  What is the probability the actual costs are between  $\\$480$ and $\\$525$?   Use an appropriate method from scipy.stats.norm to calculate this: https://docs.scipy.org/doc/scipy/reference/generated/scipy.stats.norm.html\n",
    "\n",
    "\n",
    "ii).  Then show graphically what this number means in terms of the PDF (for full credit your output should have the same format and labels as the plot shown directly above). "
   ]
  },
  {
   "cell_type": "code",
   "execution_count": null,
   "id": "1cbcc2b0-8b65-4caa-8f2a-a4fdaeed2941",
   "metadata": {
    "tags": []
   },
   "outputs": [],
   "source": [
    "q5ci_answer = ..."
   ]
  },
  {
   "cell_type": "code",
   "execution_count": null,
   "id": "c743da0f-4daa-495b-afeb-4f2ff38e45f7",
   "metadata": {
    "tags": []
   },
   "outputs": [],
   "source": [
    "# Code to create graph for 5c(ii)\n",
    "\n",
    "...\n",
    "\n",
    "plt.show()"
   ]
  },
  {
   "cell_type": "code",
   "execution_count": null,
   "id": "9a582919",
   "metadata": {
    "deletable": false,
    "editable": false
   },
   "outputs": [],
   "source": [
    "grader.check(\"q5c\")"
   ]
  },
  {
   "cell_type": "markdown",
   "id": "c5e23d4f-49bd-4311-b865-1a6be42e3df0",
   "metadata": {
    "deletable": false,
    "editable": false
   },
   "source": [
    "<!-- END QUESTION -->\n",
    "\n",
    "***"
   ]
  },
  {
   "cell_type": "markdown",
   "id": "169d7663",
   "metadata": {},
   "source": [
    "<br/><br/>\n",
    "<hr style=\"border: 5px solid #003262;\" />\n",
    "<hr style=\"border: 1px solid #fdb515;\" />\n",
    "\n",
    "## Congratulations! You have finished Homework 6!"
   ]
  },
  {
   "cell_type": "markdown",
   "id": "cc31acf9",
   "metadata": {},
   "source": [
    "If you discussed this assignment with any other students in the class (in a manner that is acceptable as described by the Collaboration policy above) please **include their names** here:\n",
    "\n",
    "**Collaborators**: *list collaborators here*"
   ]
  },
  {
   "cell_type": "markdown",
   "id": "46739932",
   "metadata": {},
   "source": [
    "### Submission Instructions\n",
    "\n",
    "Before proceeding any further, **save this notebook.**\n",
    "\n",
    "After running the `grader.export()` cell provided below, **2 files will be created**: a zip file and pdf file.  You can download them using the links provided below OR by finding them in the same folder where this juptyer notebook resides in your JuptyerHub.\n",
    "\n",
    "To receive credit on this assignment, **you must submit BOTH of these files\n",
    "to their respective Gradescope portals:** \n",
    "\n",
    "\n",
    "* **Homework 6 Autograded**: Submit the zip file that is output by the `grader.export()` cell below to the HW1 Autograded assignment in Gradescope.\n",
    "\n",
    "* **Homework 6 Manually Graded**: Submit your hw06.PDF to the HW1 Manually Graded assignment in Gradescope.  **It is your responsibility to fully review your PDF file before submitting and make sure that all your lines of code are visible and any LaTeX has correctly compiled and is fully viewable.**  **YOU MUST SELECT THE PAGES CORRESPONDING TO EACH QUESTION WHEN YOU UPLOAD TO GRADESCOPE.** If not, you will lose points.    \n",
    "\n",
    "**TROUBLESHOOTING TIPS**  If you are having any issues compiling your assignment, please [read through these troubleshooting tips first](https://docs.google.com/document/d/1ndr3Wj1PSF5qzlLMaBJznwh6QGeEXjd5TAJ6nf9EJvo/edit?usp=sharing), then post any questions on Piazza.\n",
    "\n",
    "If you are noticing an issue with your plots not printing to the PDF here is the fix:  In the toolbar go to Settings.  Then  Disable autosave.  This is enabled by default in JupyterLab. \n",
    "\n",
    "\n",
    "**You are responsible for ensuring your submission follows our requirements. We will not be granting regrade requests nor extensions to submissions that don't follow instructions.** If you encounter any difficulties with submission, please don't hesitate to reach out to staff prior to the deadline."
   ]
  },
  {
   "cell_type": "code",
   "execution_count": null,
   "id": "38928168-880c-48fc-b854-dbe2963e7041",
   "metadata": {},
   "outputs": [],
   "source": [
    "nb = slc.Nb_checker()\n",
    "nb.run_check(\"hw06.ipynb\")"
   ]
  },
  {
   "cell_type": "markdown",
   "id": "6b7f9a6c",
   "metadata": {
    "deletable": false,
    "editable": false
   },
   "source": [
    "## Submission\n",
    "\n",
    "Make sure you have run all cells in your notebook in order before running the cell below, so that all images/graphs appear in the output. The cell below will generate a zip file for you to submit. **Please save before exporting!**\n",
    "\n",
    "AFTER running the cell below, click on <a href='hw06.pdf' download>this link to download the PDF </a> to upload to Gradescope.  There will be a separate link that appears after running the cell below with a link to download the zip file to upload to Gradescope."
   ]
  },
  {
   "cell_type": "code",
   "execution_count": null,
   "id": "5e47010b",
   "metadata": {
    "deletable": false,
    "editable": false
   },
   "outputs": [],
   "source": [
    "# Save your notebook first, then run this cell to export your submission.\n",
    "grader.export(run_tests=True)"
   ]
  },
  {
   "cell_type": "markdown",
   "id": "55d81fde",
   "metadata": {},
   "source": [
    " "
   ]
  }
 ],
 "metadata": {
  "kernelspec": {
   "display_name": "Python 3 (ipykernel)",
   "language": "python",
   "name": "python3"
  },
  "language_info": {
   "codemirror_mode": {
    "name": "ipython",
    "version": 3
   },
   "file_extension": ".py",
   "mimetype": "text/x-python",
   "name": "python",
   "nbconvert_exporter": "python",
   "pygments_lexer": "ipython3",
   "version": "3.9.19"
  },
  "otter": {
   "OK_FORMAT": true,
   "tests": {
    "1b": {
     "name": "1b",
     "points": 4,
     "suites": [
      {
       "cases": [
        {
         "code": ">>> # TEST\n>>> assert get_hash(round(prob_8, 3)) == '135c0665841a287e70b0168a8319e03e'\n",
         "hidden": false,
         "locked": false
        },
        {
         "code": ">>> # TEST\n>>> assert get_hash(round(prob_8_to_10, 3)) == \"b5f84c0de25be7043e378a83e2327848\"\n",
         "hidden": false,
         "locked": false
        },
        {
         "code": ">>> # TESET\n>>> assert get_hash(round(ev_X,3)) == '0d640498fb206f2d67e1829ba976d945'\n",
         "hidden": false,
         "locked": false
        },
        {
         "code": ">>> assert get_hash(round(sd_X,3)) == 'd3199655b7c60b5261fadbf5ca0a8cce'\n",
         "hidden": false,
         "locked": false
        }
       ],
       "scored": true,
       "setup": "",
       "teardown": "",
       "type": "doctest"
      }
     ]
    },
    "1c": {
     "name": "1c",
     "points": 1,
     "suites": [
      {
       "cases": [
        {
         "code": ">>> # TEST\n>>> assert get_hash(round(bi_recalculated, 3)) == '135c0665841a287e70b0168a8319e03e'\n",
         "hidden": false,
         "locked": false
        }
       ],
       "scored": true,
       "setup": "",
       "teardown": "",
       "type": "doctest"
      }
     ]
    },
    "q1e": {
     "name": "q1e",
     "points": 3,
     "suites": [
      {
       "cases": [
        {
         "code": ">>> # TEST\n>>> assert get_hash(round(prob_at_most_10, 3)) == '6be6ebe3efd047db51e944baa227e803'\n",
         "hidden": false,
         "locked": false
        },
        {
         "code": ">>> # TEST\n>>> assert get_hash(round(prob_8_to_10, 3)) == 'b5f84c0de25be7043e378a83e2327848'\n>>> \n",
         "hidden": false,
         "locked": false
        }
       ],
       "scored": true,
       "setup": "",
       "teardown": "",
       "type": "doctest"
      }
     ]
    },
    "q2a_check": {
     "name": "q2a_check",
     "points": 0,
     "suites": [
      {
       "cases": [
        {
         "code": ">>> # TEST\n>>> assert get_hash(round(answer_2a, 4)) == '4f59b3fd6f5001542919c239391a3278'\n",
         "hidden": false,
         "locked": false
        }
       ],
       "scored": true,
       "setup": "",
       "teardown": "",
       "type": "doctest"
      }
     ]
    },
    "q4a_check": {
     "name": "q4a_check",
     "points": 0,
     "suites": [
      {
       "cases": [
        {
         "code": ">>> assert get_hash(round(q4a_answer,3)) == '1fe7b2e62c8f59cf5acd9fb93bd98dd6'\n",
         "hidden": false,
         "locked": false
        }
       ],
       "scored": true,
       "setup": "",
       "teardown": "",
       "type": "doctest"
      }
     ]
    },
    "q4b": {
     "name": "q4b",
     "points": 2,
     "suites": [
      {
       "cases": [
        {
         "code": ">>> assert get_hash(round(q4b_answer,3)) == 'cee631121c2ec9232f3a2f028ad5c89b'\n",
         "hidden": false,
         "locked": false
        }
       ],
       "scored": true,
       "setup": "",
       "teardown": "",
       "type": "doctest"
      }
     ]
    },
    "q5c": {
     "name": "q5c",
     "points": 3,
     "suites": [
      {
       "cases": [
        {
         "code": ">>> # TEST\n>>> assert get_hash(round(q5ci_answer, 4)) == '0b82992b6920530f0ce8de06aafdc308'\n",
         "hidden": false,
         "locked": false
        }
       ],
       "scored": true,
       "setup": "",
       "teardown": "",
       "type": "doctest"
      }
     ]
    }
   }
  }
 },
 "nbformat": 4,
 "nbformat_minor": 5
}
