{
 "cells": [
  {
   "cell_type": "markdown",
   "id": "bab58abc-b5cc-43b1-9e88-7a68504e743a",
   "metadata": {
    "tags": []
   },
   "source": [
    "# Lesson 4:  Grouping & Joining Data;  Visualizing Distributions\n",
    "\n",
    "Adapted from material by Ani Adhikari, Suraj Rampure, and Fernando Pérez and Josh Hug and Narges Norouzi\n"
   ]
  },
  {
   "cell_type": "code",
   "execution_count": null,
   "id": "3d97cd9b-b5c1-4752-9c2c-4e72c7c5e38d",
   "metadata": {},
   "outputs": [],
   "source": [
    "import numpy as np\n",
    "import pandas as pd\n",
    "import matplotlib.pyplot as plt\n",
    "import seaborn as sns\n",
    "\n",
    "%matplotlib inline"
   ]
  },
  {
   "cell_type": "markdown",
   "id": "89d02b4e-591c-4baa-b890-6b0b64a66a7a",
   "metadata": {},
   "source": [
    "## Dataset: Election data\n"
   ]
  },
  {
   "cell_type": "code",
   "execution_count": null,
   "id": "10c9eb26-d58c-4783-9952-2d5b73b9fbc3",
   "metadata": {},
   "outputs": [],
   "source": [
    "elections = pd.read_csv('data/elections.csv')"
   ]
  },
  {
   "cell_type": "markdown",
   "id": "38641b52-af99-43a8-9757-a9c03c98f4c1",
   "metadata": {},
   "source": [
    "## Dataset: Colorado baby names\n",
    "\n",
    "In today's lesson, we'll work with data from US Social Security applications (https://www.ssa.gov/oact/babynames/background.html https://www.ssa.gov/oact/babynames/) to download \n",
    "the `babynames` dataset, which contains information about the names of infants born in Colorado.\n",
    "\n",
    "The cell below pulls census data from a government website and then loads it into a usable form. The code shown here is outside of the scope of CSCI 3022, but you're encouraged to dig into it if you are interested!"
   ]
  },
  {
   "cell_type": "code",
   "execution_count": null,
   "id": "053edc1a-53b6-412a-acaf-bb6b6efc8fce",
   "metadata": {},
   "outputs": [],
   "source": [
    "import urllib.request\n",
    "import os.path\n",
    "import zipfile\n",
    "\n",
    "data_url = \"https://www.ssa.gov/oact/babynames/state/namesbystate.zip\"\n",
    "local_filename = \"data/babynamesbystate.zip\"\n",
    "if not os.path.exists(local_filename): # If the data exists don't download again\n",
    "    with urllib.request.urlopen(data_url) as resp, open(local_filename, 'wb') as f:\n",
    "        f.write(resp.read())\n",
    "\n",
    "zf = zipfile.ZipFile(local_filename, 'r')\n",
    "\n",
    "state_name = 'CO.TXT'\n",
    "field_names = ['State', 'Sex', 'Year', 'Name', 'Count']\n",
    "with zf.open(state_name) as fh:\n",
    "    babynames = pd.read_csv(fh, header=None, names=field_names)\n",
    "\n",
    "babynames"
   ]
  },
  {
   "cell_type": "code",
   "execution_count": null,
   "id": "d09ffe49-5427-441d-9f4d-d05be1feb118",
   "metadata": {},
   "outputs": [],
   "source": [
    "babynames.describe()"
   ]
  },
  {
   "cell_type": "code",
   "execution_count": null,
   "id": "b02eb0a7-045a-42f5-9985-2cfdc76639ff",
   "metadata": {},
   "outputs": [],
   "source": []
  },
  {
   "cell_type": "markdown",
   "id": "c551a594-6e2c-4c47-af28-d9c77e404615",
   "metadata": {},
   "source": [
    "## Grouping\n",
    "\n",
    "\n",
    "To illustrate Panda's grouping function, we're going to look at a smaller subset of names for demonstration purposes only:"
   ]
  },
  {
   "cell_type": "code",
   "execution_count": null,
   "id": "bd57ce38-e32b-403d-b2f9-91d9435ba98f",
   "metadata": {},
   "outputs": [],
   "source": [
    "\n",
    "babynames.head()\n",
    "\n",
    "#Select a random subset of names from this dataset\n",
    "babynames_temp=babynames.iloc[[5,15,49100, 49000, 55502, 55503]].sort_values(by=\"Name\").reset_index().drop(columns=\"index\")"
   ]
  },
  {
   "cell_type": "code",
   "execution_count": null,
   "id": "b1b2d99f-c9af-4abb-9d7a-7c48fc547659",
   "metadata": {},
   "outputs": [],
   "source": [
    "babynames_temp"
   ]
  },
  {
   "cell_type": "markdown",
   "id": "521b659f-1f26-4343-b878-c45439bbecf0",
   "metadata": {},
   "source": [
    "### GroupBy\n",
    "\n",
    "We can group rows that share a common feature, then aggregate data across the group.\n",
    "\n",
    "Syntax  `dataframe.groupby(column_names).agg(aggregation_function)`\n",
    "\n",
    "\n",
    "In this example, we count the total number of babies born in each year "
   ]
  },
  {
   "cell_type": "markdown",
   "id": "0ce4b87e-f1db-40fe-9fc1-df002edba69f",
   "metadata": {},
   "source": [
    "Calling `.groupby()` generates DataFrameGroupBy objects → \"mini\" sub-DataFrames\n",
    "\n",
    "\n",
    "Each subframe contains all rows that correspond to the same group \n",
    "\n",
    "\n",
    "We cannot work directly with DataFrameGroupBy objects! The code below is to help understand what goes on conceptually – in reality, we can't \"see\" the result of calling .groupby.\n",
    "\n",
    "It turns out we can print out the subframes that result. This isn't something you'll do for any practical purpose. However, it may help you get an understanding of what groupby is actually doing.\n"
   ]
  },
  {
   "cell_type": "code",
   "execution_count": null,
   "id": "618eb66c-3297-4cd2-bac6-0b2a6578f32d",
   "metadata": {},
   "outputs": [],
   "source": []
  },
  {
   "cell_type": "markdown",
   "id": "759e45a7-75c6-44cb-9bcd-df9a1b4d954a",
   "metadata": {},
   "source": [
    "### `DataFrameGroupBy` Objects"
   ]
  },
  {
   "cell_type": "markdown",
   "id": "69956ae3-b04b-4c99-a724-945bc4c3b10b",
   "metadata": {},
   "source": [
    "The result of `groupby` is not a `DataFrame` or a list of `DataFrame`s. It is instead a special type called a `DataFrameGroupBy`."
   ]
  },
  {
   "cell_type": "code",
   "execution_count": null,
   "id": "e36d8f10-3949-4c48-8c86-0d102b318a5e",
   "metadata": {},
   "outputs": [],
   "source": [
    "grouped_by_year = babynames_temp.groupby(\"Year\")\n",
    "type(grouped_by_year)"
   ]
  },
  {
   "cell_type": "markdown",
   "id": "13e1d1a7-4347-4296-88e4-01f0208f975c",
   "metadata": {},
   "source": [
    "`GroupBy` objects are structured like dictionaries. In fact, we can actually see the dictionaries with the following code:"
   ]
  },
  {
   "cell_type": "code",
   "execution_count": null,
   "id": "3f7736d1-3358-4221-bab0-c933d367af23",
   "metadata": {},
   "outputs": [],
   "source": [
    "grouped_by_year.groups"
   ]
  },
  {
   "cell_type": "markdown",
   "id": "dfdec51c-a9b9-4f60-8d29-679d5c7faf56",
   "metadata": {},
   "source": [
    "The `key`s of the dictionary are the groups (in this case, `Year`), and the `value`s are the **indices** of rows belonging to that group. We can access a particular sub-`DataFrame` using `get_group`:"
   ]
  },
  {
   "cell_type": "code",
   "execution_count": null,
   "id": "3c9dbbb8-5034-4ac1-b74f-f729f74490b6",
   "metadata": {},
   "outputs": [],
   "source": [
    "grouped_by_year.get_group(2008)"
   ]
  },
  {
   "cell_type": "code",
   "execution_count": null,
   "id": "9f4c5ca0-20d2-4331-a616-3adc14d6795d",
   "metadata": {},
   "outputs": [],
   "source": [
    "# This is just to demonstrate under the hood what the groupby call does - this\n",
    "# is not something you would usually run\n",
    "for n, g in grouped_by_year:\n",
    "    display(g)"
   ]
  },
  {
   "cell_type": "markdown",
   "id": "72606b36-17bc-4b6b-bb87-a411ed440079",
   "metadata": {},
   "source": [
    "Once we've formed groups, we can aggregate each sub-dataframe (a.k.a. group) into a single row using an aggregation function. \n",
    "\n",
    "There are many different aggregation functions we can use, all of which are useful in different applications.\n",
    "\n",
    "\n",
    "For example, if we use `.agg(min)` on the groups above, we get back a single DataFrame where each group has been replaced by a single row. In the each new column for the aggregate row, the values that appear are the minimum column values for all values in that group.\n"
   ]
  },
  {
   "cell_type": "code",
   "execution_count": null,
   "id": "0f15b83f-2b47-4216-a497-fdcccc564199",
   "metadata": {},
   "outputs": [],
   "source": [
    "babynames_temp.groupby(\"Year\").agg({\"Count\":\"sum\"})"
   ]
  },
  {
   "cell_type": "code",
   "execution_count": null,
   "id": "1d4f93f1-a992-4421-926e-579955f1e636",
   "metadata": {},
   "outputs": [],
   "source": [
    "babynames_temp.groupby(\"Year\")[[\"Count\"]].agg(\"sum\")"
   ]
  },
  {
   "cell_type": "code",
   "execution_count": null,
   "id": "b938ee15-20ff-48b6-ae02-7e65a4dcabf0",
   "metadata": {},
   "outputs": [],
   "source": [
    "babynames_temp.groupby(\"Year\").first()"
   ]
  },
  {
   "cell_type": "code",
   "execution_count": null,
   "id": "0f8f56c3-d99f-46c3-a10b-e43004683e7a",
   "metadata": {},
   "outputs": [],
   "source": [
    "babynames_temp.sort_values(by=\"Count\").groupby(\"Year\").first()"
   ]
  },
  {
   "cell_type": "code",
   "execution_count": null,
   "id": "f5ab2984-1ada-4647-9df7-a17d33943e2c",
   "metadata": {},
   "outputs": [],
   "source": [
    "# What is the earliest year in which each name appeared?\n",
    "\n",
    "babynames_temp.groupby(\"Name\")[[\"Year\"]].agg(min)"
   ]
  },
  {
   "cell_type": "code",
   "execution_count": null,
   "id": "f11cc90b-6014-4d0a-a002-94332b1add42",
   "metadata": {},
   "outputs": [],
   "source": [
    "# What is the largest single-year count of each name?\n",
    "babynames_temp.groupby(\"Name\")[[\"Count\"]].agg(max)"
   ]
  },
  {
   "cell_type": "code",
   "execution_count": null,
   "id": "39db29cc-6d23-4bed-9e34-3de0f57e26a4",
   "metadata": {},
   "outputs": [],
   "source": [
    "# What is the earliest the name appeared AND the largest single-year count of each name?\n",
    "\n",
    "babynames_temp.groupby(\"Year\").agg({\"Count\":max, \"Name\":min}).rename(columns={\"Count\":\"MaxCount\", \"Name\":\"MinName\"})"
   ]
  },
  {
   "cell_type": "code",
   "execution_count": null,
   "id": "2b813965-c181-43e0-9cd9-f0f054b34e72",
   "metadata": {},
   "outputs": [],
   "source": [
    "babynames_temp.groupby(\"Year\").agg({\"Count\":[max, min, sum]})\n"
   ]
  },
  {
   "cell_type": "markdown",
   "id": "e4be9f51-be00-4999-88ad-466dc5f671b9",
   "metadata": {
    "tags": []
   },
   "source": [
    "\n",
    "\n",
    "### `groupby.size` and `groupby.count()`"
   ]
  },
  {
   "cell_type": "code",
   "execution_count": null,
   "id": "fa521e9c-5617-47e8-9d79-c4fafaef7e3d",
   "metadata": {},
   "outputs": [],
   "source": [
    "df = pd.DataFrame({'letter':['A', 'A', 'B', 'C', 'C', 'C'], \n",
    "                   'num':[1, 2, 3, 4, np.NaN, 4], \n",
    "                   'state':[np.NaN, 'tx', 'fl', 'hi', np.NaN, 'ak']})\n",
    "df"
   ]
  },
  {
   "cell_type": "markdown",
   "id": "f362ca14-4d8a-43d4-82d1-c9a243d7d768",
   "metadata": {},
   "source": [
    "`groupby.size()` returns a `Series`, indexed by the `letter`s that we grouped by, with values denoting the number of rows in each group/sub-DataFrame. It does not care about missing (`NaN`) values."
   ]
  },
  {
   "cell_type": "code",
   "execution_count": null,
   "id": "f9bc026b-b06d-4523-b643-af8bc40cde1b",
   "metadata": {},
   "outputs": [],
   "source": [
    "df.groupby(\"letter\").size()"
   ]
  },
  {
   "cell_type": "markdown",
   "id": "0bd8707a-9358-4edd-963e-42bd30009e62",
   "metadata": {},
   "source": [
    "`groupby.count()` returns a `DataFrame`, indexed by the `letter`s that we grouped by. Each column represents the number of non-missing values for that `letter`."
   ]
  },
  {
   "cell_type": "code",
   "execution_count": null,
   "id": "8d3a4a5b-91ef-41e0-b1dc-88ed740eb7e1",
   "metadata": {},
   "outputs": [],
   "source": [
    "df.groupby(\"letter\").count()"
   ]
  },
  {
   "cell_type": "markdown",
   "id": "1611327b-f214-4b8e-baff-62877f92d156",
   "metadata": {},
   "source": [
    "You might recall `value_counts()` function we talked about last week. What's the difference?"
   ]
  },
  {
   "cell_type": "code",
   "execution_count": null,
   "id": "029a6993-5104-499e-82d7-53db2b15478c",
   "metadata": {},
   "outputs": [],
   "source": [
    "df[\"letter\"].value_counts()"
   ]
  },
  {
   "cell_type": "markdown",
   "id": "6e197552-81e1-49f8-af4b-63ca535d4045",
   "metadata": {},
   "source": [
    "Turns out `value_counts()` does something similar to `groupby.size()`, except that it also sorts the resulting `Series` in descending order."
   ]
  },
  {
   "cell_type": "markdown",
   "id": "8ee3a577-2a26-406a-b717-26810945453b",
   "metadata": {},
   "source": [
    "---"
   ]
  },
  {
   "cell_type": "markdown",
   "id": "d93f8671-0612-41ee-8182-21848cf20007",
   "metadata": {},
   "source": [
    "### Practice Exercises\n"
   ]
  },
  {
   "cell_type": "markdown",
   "id": "d17f4de4-7aac-478a-ab86-c146de4b79c1",
   "metadata": {},
   "source": [
    "**Practice:  Write code to calculate the total number of babies in Colorado with each name.**"
   ]
  },
  {
   "cell_type": "code",
   "execution_count": null,
   "id": "930bceff-be40-4a51-99c8-017a655ff3c7",
   "metadata": {},
   "outputs": [],
   "source": [
    "...\n"
   ]
  },
  {
   "cell_type": "markdown",
   "id": "f10e42b2-032b-49ea-a1ba-171f15fdc6ed",
   "metadata": {},
   "source": [
    "**Practice:  How many babies in the Colorado dataset have your name?**"
   ]
  },
  {
   "cell_type": "code",
   "execution_count": null,
   "id": "88a4ee37-92f8-47f9-8e6b-7ac9f10f0c62",
   "metadata": {},
   "outputs": [],
   "source": [
    "..."
   ]
  },
  {
   "cell_type": "markdown",
   "id": "51359eca-ea76-4110-a8fd-3cc98c17de0a",
   "metadata": {},
   "source": [
    "### `Groupby` with multiple columns"
   ]
  },
  {
   "cell_type": "markdown",
   "id": "2a67a341-752c-4b09-b66f-b03eaad846e5",
   "metadata": {},
   "source": [
    "**Practice:  Suppose we want to build a table showing the total number of babies born of each sex in each year. One way is to groupby using both columns of interest.  Try this in the cell below:**\n"
   ]
  },
  {
   "cell_type": "code",
   "execution_count": null,
   "id": "2bc179a5-e6a3-427c-a3c4-04f595b8a7c4",
   "metadata": {},
   "outputs": [],
   "source": [
    "..."
   ]
  },
  {
   "cell_type": "markdown",
   "id": "b0466962-3e16-4e6e-9296-4a92b1e49fd6",
   "metadata": {},
   "source": [
    "## Joining Tables\n",
    "\n",
    "Suppose we want to know the popularity of presidential candidates' first names out of babies born in Colorado in 2023?"
   ]
  },
  {
   "cell_type": "markdown",
   "id": "a1cc0a2a-f873-4ed6-ac21-8f7a85024b63",
   "metadata": {},
   "source": [
    "First, we'll create a new dataframe with data just from 2023"
   ]
  },
  {
   "cell_type": "code",
   "execution_count": null,
   "id": "fe8aec63-f2af-4580-a3b2-28d1e88874c0",
   "metadata": {},
   "outputs": [],
   "source": [
    "babynames_2023 = babynames[babynames[\"Year\"]==2023]\n",
    "babynames_2023.head(10)"
   ]
  },
  {
   "cell_type": "markdown",
   "id": "818145cd-0ebf-4a4b-9cf0-4597d771e235",
   "metadata": {},
   "source": [
    "### `.str` Functions for Defining a Condition"
   ]
  },
  {
   "cell_type": "markdown",
   "id": "72677105-37da-4b8d-bbc3-09330bc13436",
   "metadata": {},
   "source": [
    "We're interested in joining with the elections dataset on the First Name of the Candidate.   To grab the first name of each Candidate we can use a `.str` function (https://pandas.pydata.org/docs/reference/api/pandas.Series.str.split.html#pandas.Series.str.split)"
   ]
  },
  {
   "cell_type": "code",
   "execution_count": null,
   "id": "a9d90e96-5022-4858-9246-b6fbd3ba1c47",
   "metadata": {},
   "outputs": [],
   "source": [
    "elections[\"Candidate\"].str.split().str[0]"
   ]
  },
  {
   "cell_type": "markdown",
   "id": "ab1a4887-71a3-4d67-91c5-73665d4c0cf9",
   "metadata": {},
   "source": [
    "**Let's add a column to the elections dataframe with just the first name of the candidate**"
   ]
  },
  {
   "cell_type": "code",
   "execution_count": null,
   "id": "27677c8a-b974-4272-94d3-cb1bd76ad5ec",
   "metadata": {},
   "outputs": [],
   "source": [
    "elections=elections.assign(First_Name =  elections[\"Candidate\"].str.split().str[0])\n",
    "\n",
    "elections\n"
   ]
  },
  {
   "cell_type": "markdown",
   "id": "30bbda35-0513-4f00-a739-e1ace211f4d8",
   "metadata": {},
   "source": [
    "**Practice:  Create a new DataFrame merged, which merges the election dataset and the babynames_2023 dataset.**"
   ]
  },
  {
   "cell_type": "code",
   "execution_count": null,
   "id": "bc93850e-9f74-4863-bdd5-15f2265197e3",
   "metadata": {},
   "outputs": [],
   "source": [
    "merged = ...\n",
    "merged"
   ]
  },
  {
   "cell_type": "markdown",
   "id": "f4ed4928-62d3-4c14-9f95-6401cd9ecac0",
   "metadata": {},
   "source": [
    "**Practice:  What were the most popular presidential names of babies born in Colorado in 2023?**"
   ]
  },
  {
   "cell_type": "code",
   "execution_count": null,
   "id": "1ab5b086-c883-4b72-9ff2-7dccab2750a1",
   "metadata": {},
   "outputs": [],
   "source": [
    "..."
   ]
  },
  {
   "cell_type": "markdown",
   "id": "a63cc4ed-414b-40db-a0a8-4f2112bee409",
   "metadata": {},
   "source": [
    "### Joining Tables on Indices:\n",
    "\n",
    "What if you want to join your tables on index values?  \n",
    "\n",
    "For example: suppose we set `First Name` as the index in our `elections` DataFrame\n",
    "and we set `Name` as the index in our `babynames` DataFrame:"
   ]
  },
  {
   "cell_type": "code",
   "execution_count": null,
   "id": "63c5e3ba-98cd-462a-a4c8-d3394e308317",
   "metadata": {},
   "outputs": [],
   "source": [
    "elections_new = elections.set_index(\"First Name\")\n",
    "babynames_2023new = babynames_2023.set_index(\"Name\")"
   ]
  },
  {
   "cell_type": "markdown",
   "id": "0745c7a5-3cf8-4d4d-9c43-db8d1a34978b",
   "metadata": {},
   "source": [
    "Since \"First Name\" and \"Name\" are no longer columns, we can't put them as input to the `left_on` or `right_on` argument.  Instead we will set the `left_index` and `right_index` to True:"
   ]
  },
  {
   "cell_type": "code",
   "execution_count": null,
   "id": "48101a9b-b19f-42b4-b3c8-d1c3dac3b43b",
   "metadata": {},
   "outputs": [],
   "source": [
    "merged2 = pd.merge(left = elections_new, right = babynames_2023new, \n",
    "                  left_index = True, right_index=True)\n",
    "merged2"
   ]
  },
  {
   "cell_type": "markdown",
   "id": "8007f541-3c92-4d68-8285-0735175af86c",
   "metadata": {},
   "source": [
    "## New Dataset:  Newborns \n",
    "Next we'll look at a sample of data of newborns born in the 1960s in Oakland California. [Stat Labs](https://www.stat.berkeley.edu/~statlabs/) by Deborah Nolan and Terry Speed has details about a larger dataset from which this set is drawn.\n",
    "\n",
    "The data contains the following variables for 1,174 mother-baby pairs: the baby’s birth weight in ounces, the number of gestational days, the mother’s age in completed years, the mother’s height in inches, pregnancy weight in pounds, and whether or not the mother smoked during pregnancy."
   ]
  },
  {
   "cell_type": "code",
   "execution_count": null,
   "id": "97f9aec4-e857-4608-af2d-e4aab7317117",
   "metadata": {},
   "outputs": [],
   "source": [
    "births = pd.read_csv('data/baby.csv')\n",
    "births"
   ]
  },
  {
   "cell_type": "markdown",
   "id": "a0bf82b3-ddd0-48d6-b0de-479c438bfb4b",
   "metadata": {},
   "source": [
    "# Visualizing Distributions: Qualitative Variables\n",
    "## Bar Plots"
   ]
  },
  {
   "cell_type": "markdown",
   "id": "149c891b-46cd-4d35-876b-a2eb10dfea8b",
   "metadata": {},
   "source": [
    "We often use bar plots to display distributions of a categorical variable:"
   ]
  },
  {
   "cell_type": "code",
   "execution_count": null,
   "id": "3f1970bb-42e2-4aa7-b9ab-a6dae17f077a",
   "metadata": {},
   "outputs": [],
   "source": [
    "babies = births['Maternal Smoker'].value_counts()\n",
    "babies"
   ]
  },
  {
   "cell_type": "code",
   "execution_count": null,
   "id": "656133b8-1461-419f-a0ec-faa85ece832d",
   "metadata": {},
   "outputs": [],
   "source": [
    "import matplotlib.pyplot as plt\n",
    "\n",
    "plt.bar(babies.index,babies.values);\n"
   ]
  },
  {
   "cell_type": "code",
   "execution_count": null,
   "id": "0d276c6f-d0b2-4e3c-a2ca-52ea9359f51f",
   "metadata": {},
   "outputs": [],
   "source": [
    "import seaborn as sns\n",
    "\n",
    "sns.countplot(data = births, x = 'Maternal Smoker');"
   ]
  },
  {
   "cell_type": "code",
   "execution_count": null,
   "id": "2484c774-f11d-4f22-adfa-2614e04ee6ae",
   "metadata": {},
   "outputs": [],
   "source": [
    "import plotly.express as px\n",
    "px.histogram(births, x = 'Maternal Smoker', color = 'Maternal Smoker')"
   ]
  },
  {
   "cell_type": "code",
   "execution_count": null,
   "id": "0d935a0e-f7aa-4e20-98db-ce6cc24bcde2",
   "metadata": {},
   "outputs": [],
   "source": [
    "births['Maternal Smoker'].value_counts().plot(kind='bar')"
   ]
  },
  {
   "cell_type": "markdown",
   "id": "e5e563e9-bdba-4779-b5db-1344367bf712",
   "metadata": {},
   "source": [
    "# Visualizing Distributions:  Quantitative Variables"
   ]
  },
  {
   "cell_type": "code",
   "execution_count": null,
   "id": "25fad818-ad89-4e79-837f-a13a361deaa8",
   "metadata": {},
   "outputs": [],
   "source": [
    "sns.countplot(data = births, x = 'Maternal Pregnancy Weight');"
   ]
  },
  {
   "cell_type": "code",
   "execution_count": null,
   "id": "ca7efca8-2737-41c4-b94f-06ecd7b6ccaa",
   "metadata": {},
   "outputs": [],
   "source": [
    "sns.histplot(data = births, x = 'Maternal Pregnancy Weight', bins = 20);"
   ]
  },
  {
   "cell_type": "code",
   "execution_count": null,
   "id": "4e5630f2-696e-4342-8c0f-ac24f509616e",
   "metadata": {},
   "outputs": [],
   "source": [
    "px.histogram(births, x = 'Maternal Pregnancy Weight')"
   ]
  },
  {
   "cell_type": "code",
   "execution_count": null,
   "id": "15a7584b-6d98-4218-ace6-d806dd67f3d5",
   "metadata": {},
   "outputs": [],
   "source": [
    "sns.histplot(data = births, x = 'Maternal Pregnancy Weight');"
   ]
  },
  {
   "cell_type": "code",
   "execution_count": null,
   "id": "8cf69d72",
   "metadata": {},
   "outputs": [],
   "source": [
    "sns.histplot(data = births, x = 'Maternal Pregnancy Weight', stat= 'density')"
   ]
  },
  {
   "cell_type": "code",
   "execution_count": null,
   "id": "9ecc6984-e775-4f19-b842-50963d0b8ed6",
   "metadata": {},
   "outputs": [],
   "source": [
    "sns.histplot(data = births, x = 'Maternal Pregnancy Weight', stat='density', kde = True);\n"
   ]
  },
  {
   "cell_type": "code",
   "execution_count": null,
   "id": "1a5c363f",
   "metadata": {},
   "outputs": [],
   "source": [
    "p10= np.percentile(births['Maternal Pregnancy Weight'], 10)\n",
    "\n",
    "\n",
    "births['category'] = None\n",
    "births.loc[(births['Birth Weight'] <= p10), 'category'] = 'Less than the 10th percentile'\n",
    "births.loc[(births['Birth Weight'] > p10) , 'category'] = 'Greater than the 10th percentile'\n",
    "\n",
    "sns.histplot(births, x = 'Birth Weight', hue = 'category', bins = 36, stat='density');\n",
    "\n",
    "births.drop(columns = ['category'], inplace = True)\n",
    "\n",
    "#Mark the 10th percentile on the graph\n",
    "plt.scatter(p10, -.001, marker='^', color='red', s=400)\n",
    "\n",
    "print(p10)"
   ]
  },
  {
   "cell_type": "code",
   "execution_count": null,
   "id": "a7ef9319-6fc6-4f64-b306-0931c52be9c6",
   "metadata": {},
   "outputs": [],
   "source": [
    "q1, median, q3 = np.percentile(births['Birth Weight'], [25, 50, 75])\n",
    "iqr = q3 - q1\n",
    "\n",
    "births['category'] = None\n",
    "births.loc[(births['Birth Weight'] < q1) | (births['Birth Weight'] > q3), 'category'] = 'Outside of the middle 50%'\n",
    "births.loc[(births['Birth Weight'] > q1) & (births['Birth Weight'] < q3), 'category'] = 'In the middle 50%'\n",
    "\n",
    "sns.histplot(births, x = 'Birth Weight', hue = 'category', bins = 30, stat = \"density\");\n",
    "\n",
    "births.drop(columns = ['category'], inplace = True)\n",
    "\n",
    "\n",
    "plt.scatter(q1, -.001, marker='^', color='orange', s=400)\n",
    "\n",
    "plt.scatter(median, -.001, marker='^', color='red', s=400)\n",
    "\n",
    "plt.scatter(q3, -.001, marker='^', color='green', s=400)\n",
    "\n",
    "display([q1, median, q3])"
   ]
  },
  {
   "cell_type": "markdown",
   "id": "9afdd260-a3f8-4ac1-99cd-49eb1a05d426",
   "metadata": {
    "tags": []
   },
   "source": [
    "## Box Plots"
   ]
  },
  {
   "cell_type": "code",
   "execution_count": null,
   "id": "df8bf5f3-a011-4bed-876e-bde1ec91b824",
   "metadata": {},
   "outputs": [],
   "source": [
    "plt.figure(figsize = (3, 6))\n",
    "sns.boxplot(data = births, y = 'Birth Weight');"
   ]
  },
  {
   "cell_type": "code",
   "execution_count": null,
   "id": "d5e778c7-503c-4a73-b8a6-c71dbbb8e73d",
   "metadata": {},
   "outputs": [],
   "source": [
    "bweights = births['Birth Weight']\n",
    "q1 = np.percentile(bweights, 25)\n",
    "q2 = np.percentile(bweights, 50)\n",
    "q3 = np.percentile(bweights, 75)\n",
    "iqr = q3 - q1\n",
    "\n",
    "\n",
    "q1, q2, q3"
   ]
  },
  {
   "cell_type": "code",
   "execution_count": null,
   "id": "3d0e7aa2-492b-4d11-97d1-ca7e3b2ab693",
   "metadata": {},
   "outputs": [],
   "source": []
  },
  {
   "cell_type": "markdown",
   "id": "4c3cac10-a2c2-432d-afae-5ddbd0fdfe35",
   "metadata": {},
   "source": [
    "## Violin Plots"
   ]
  },
  {
   "cell_type": "code",
   "execution_count": null,
   "id": "3044288e-1cbe-4ddb-b0c9-3fe997c8acaf",
   "metadata": {},
   "outputs": [],
   "source": [
    "plt.figure(figsize = (3, 6))\n",
    "sns.violinplot(data = births, y = 'Birth Weight');\n"
   ]
  },
  {
   "cell_type": "code",
   "execution_count": null,
   "id": "a9bf53f4",
   "metadata": {},
   "outputs": [],
   "source": [
    "#You can put a boxplot inside a violin plot...\n",
    "\n",
    "px.violin(births, y = \"Birth Weight\", box=True, width=400)"
   ]
  },
  {
   "cell_type": "markdown",
   "id": "21b5a97d-cd22-422c-979e-d3a870f5cb0b",
   "metadata": {},
   "source": [
    "## Describing Distributions"
   ]
  },
  {
   "cell_type": "code",
   "execution_count": null,
   "id": "84d508b0-7356-4053-9f45-829aab652b07",
   "metadata": {},
   "outputs": [],
   "source": [
    "median = births['Maternal Pregnancy Weight'].median()\n",
    "mean = births['Maternal Pregnancy Weight'].mean()\n",
    "\n",
    "print(\"Median\", median)\n",
    "print(\"Mean\", mean)"
   ]
  }
 ],
 "metadata": {
  "kernelspec": {
   "display_name": "Python 3 (ipykernel)",
   "language": "python",
   "name": "python3"
  },
  "language_info": {
   "codemirror_mode": {
    "name": "ipython",
    "version": 3
   },
   "file_extension": ".py",
   "mimetype": "text/x-python",
   "name": "python",
   "nbconvert_exporter": "python",
   "pygments_lexer": "ipython3",
   "version": "3.9.19"
  }
 },
 "nbformat": 4,
 "nbformat_minor": 5
}
