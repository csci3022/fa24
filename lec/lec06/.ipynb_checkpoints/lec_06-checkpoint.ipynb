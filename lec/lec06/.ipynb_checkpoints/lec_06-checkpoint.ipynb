{
 "cells": [
  {
   "cell_type": "markdown",
   "id": "bab58abc-b5cc-43b1-9e88-7a68504e743a",
   "metadata": {
    "tags": []
   },
   "source": [
    "# Lesson 6:  Visualization\n",
    "\n",
    "Adapted from material by Ani Adhikari, Suraj Rampure, and Fernando Pérez and Josh Hug and Narges Norouzi\n"
   ]
  },
  {
   "cell_type": "code",
   "execution_count": null,
   "id": "3d97cd9b-b5c1-4752-9c2c-4e72c7c5e38d",
   "metadata": {},
   "outputs": [],
   "source": [
    "import numpy as np\n",
    "import pandas as pd\n",
    "import matplotlib.pyplot as plt\n",
    "import seaborn as sns\n",
    "\n",
    "%matplotlib inline"
   ]
  },
  {
   "cell_type": "code",
   "execution_count": null,
   "id": "61813f9c-b8a4-4017-b957-9e12a9f767d6",
   "metadata": {},
   "outputs": [],
   "source": [
    "births = pd.read_csv('data/baby.csv')"
   ]
  },
  {
   "cell_type": "code",
   "execution_count": null,
   "id": "7e9f8dac-9f04-4d06-aabe-4d31aaf8b19a",
   "metadata": {},
   "outputs": [],
   "source": [
    "births.head()"
   ]
  },
  {
   "cell_type": "code",
   "execution_count": null,
   "id": "3ca59392-bff7-4ebc-8cc1-c4c1d96189f4",
   "metadata": {},
   "outputs": [],
   "source": [
    "births.shape"
   ]
  },
  {
   "cell_type": "markdown",
   "id": "a0bf82b3-ddd0-48d6-b0de-479c438bfb4b",
   "metadata": {},
   "source": [
    "# Visualizing Distributions: Qualitative Variables\n",
    "## Bar Plots"
   ]
  },
  {
   "cell_type": "markdown",
   "id": "149c891b-46cd-4d35-876b-a2eb10dfea8b",
   "metadata": {},
   "source": [
    "We often use bar plots to display distributions of a categorical variable:"
   ]
  },
  {
   "cell_type": "code",
   "execution_count": null,
   "id": "3f1970bb-42e2-4aa7-b9ab-a6dae17f077a",
   "metadata": {},
   "outputs": [],
   "source": [
    "babies = births['Maternal Smoker'].value_counts()\n"
   ]
  },
  {
   "cell_type": "markdown",
   "id": "764060d9-ea69-40e9-85cd-9b541a2b2b23",
   "metadata": {},
   "source": [
    "Some basic plotting functionality is built directly into Pandas. \n",
    "\n",
    "https://pandas.pydata.org/docs/reference/api/pandas.DataFrame.plot.html \n",
    "\n",
    "For example, you can call `.plot(kind=bar)` on any Series of Qualitative data:"
   ]
  },
  {
   "cell_type": "code",
   "execution_count": null,
   "id": "c2960b23-8082-46dc-8b5c-3fc769505a1b",
   "metadata": {},
   "outputs": [],
   "source": [
    "births['Maternal Smoker'].value_counts().plot(kind='bar')"
   ]
  },
  {
   "cell_type": "markdown",
   "id": "a34f6991-4368-42a8-82c9-51c614738a86",
   "metadata": {},
   "source": [
    "**Practice:  Make a horizontal bar plot of the distribution of the Maternal Smoker variable:**"
   ]
  },
  {
   "cell_type": "code",
   "execution_count": null,
   "id": "a2d5158e-7372-4276-bf93-4948c3f06b58",
   "metadata": {},
   "outputs": [],
   "source": [
    "..."
   ]
  },
  {
   "cell_type": "markdown",
   "id": "652e6eda-3bde-4712-a36d-0dd71b61b8b5",
   "metadata": {},
   "source": [
    "### Matplotlib \n",
    "\n",
    "`matplotlib` is a comprehensive library for creating static, animated, and interactive visualizations in Python. \n",
    "\n",
    "https://matplotlib.org/ \n",
    "\n",
    "It is based on the plotting paradigm of MATLAB.  We will typically import it with alias `.plt` \n",
    "\n",
    "We can plot a bar plot in matplot lib using \n",
    "\n",
    "\n",
    "`plt.bar(x, height)`\n",
    "where x and height are arrays such that the bars are positioned at x with height given by height.  "
   ]
  },
  {
   "cell_type": "code",
   "execution_count": null,
   "id": "656133b8-1461-419f-a0ec-faa85ece832d",
   "metadata": {},
   "outputs": [],
   "source": [
    "import matplotlib.pyplot as plt\n",
    "\n",
    "plt.bar(babies.index,babies.values);\n"
   ]
  },
  {
   "cell_type": "markdown",
   "id": "6794623d-12de-46c2-b73a-6a58e72cb9a9",
   "metadata": {},
   "source": [
    "You can use matplotlib's `barh` to make horizontal bar plots:"
   ]
  },
  {
   "cell_type": "code",
   "execution_count": null,
   "id": "6098a31d-570f-4f2a-ae97-8f88593aad99",
   "metadata": {},
   "outputs": [],
   "source": [
    "plt.barh(babies.index,babies.values);"
   ]
  },
  {
   "cell_type": "markdown",
   "id": "4ea6db1f-93ff-46ec-b0af-e20b5a4216fe",
   "metadata": {},
   "source": [
    "### Seaborn: \n",
    "\n",
    "https://seaborn.pydata.org/\n",
    "\n",
    "Seaborn is a Python data visualization library based on matplotlib. It provides a high-level interface for drawing attractive and informative statistical graphics.\n",
    "We will usually import seaborn with the alias `sns`\n",
    "\n",
    "`countplot` gives a count of each type of qualitative variable"
   ]
  },
  {
   "cell_type": "code",
   "execution_count": null,
   "id": "0d276c6f-d0b2-4e3c-a2ca-52ea9359f51f",
   "metadata": {},
   "outputs": [],
   "source": [
    "import seaborn as sns\n",
    "\n",
    "sns.countplot(data = births, x = 'Maternal Smoker');"
   ]
  },
  {
   "cell_type": "markdown",
   "id": "5deac348-3d8c-4815-a93d-560f2cf27530",
   "metadata": {},
   "source": [
    "### Plotly\n",
    "https://plotly.com/python/getting-started/\n",
    "\n",
    "The plotly Python library is an interactive, open-source plotting library that supports over 40 unique chart types covering a wide range of statistical, financial, geographic, scientific, and 3-dimensional use-cases.\n",
    "\n",
    "Built on top of the Plotly JavaScript library (plotly.js), plotly enables Python users to create beautiful interactive web-based visualizations that can be displayed in Jupyter notebooks, saved to standalone HTML files, or served as part of pure Python-built web applications using Dash."
   ]
  },
  {
   "cell_type": "code",
   "execution_count": null,
   "id": "2484c774-f11d-4f22-adfa-2614e04ee6ae",
   "metadata": {},
   "outputs": [],
   "source": [
    "import plotly.express as px\n",
    "px.histogram(births, x = 'Maternal Smoker', color = 'Maternal Smoker')"
   ]
  },
  {
   "cell_type": "code",
   "execution_count": null,
   "id": "0d1d1a19-dedc-4b1f-bb98-9587991dc4da",
   "metadata": {},
   "outputs": [],
   "source": [
    "px.bar(births,  y=\"Maternal Smoker\", color = \"Maternal Smoker\")"
   ]
  },
  {
   "cell_type": "markdown",
   "id": "e5e563e9-bdba-4779-b5db-1344367bf712",
   "metadata": {},
   "source": [
    "# Visualizing Distributions:  Quantitative Variables"
   ]
  },
  {
   "cell_type": "code",
   "execution_count": null,
   "id": "25fad818-ad89-4e79-837f-a13a361deaa8",
   "metadata": {},
   "outputs": [],
   "source": [
    "sns.countplot(data = births, x = 'Maternal Pregnancy Weight');"
   ]
  },
  {
   "cell_type": "code",
   "execution_count": null,
   "id": "ca7efca8-2737-41c4-b94f-06ecd7b6ccaa",
   "metadata": {},
   "outputs": [],
   "source": [
    "sns.histplot(data = births, x = 'Maternal Pregnancy Weight');"
   ]
  },
  {
   "cell_type": "code",
   "execution_count": null,
   "id": "15a7584b-6d98-4218-ace6-d806dd67f3d5",
   "metadata": {},
   "outputs": [],
   "source": [
    "sns.histplot(data = births, x = 'Maternal Pregnancy Weight');"
   ]
  },
  {
   "cell_type": "code",
   "execution_count": null,
   "id": "9ecc6984-e775-4f19-b842-50963d0b8ed6",
   "metadata": {
    "scrolled": true
   },
   "outputs": [],
   "source": [
    "sns.histplot(data = births, x = 'Maternal Pregnancy Weight', stat='density', kde = True);\n"
   ]
  },
  {
   "cell_type": "markdown",
   "id": "565a3c9b-c393-4ff9-917b-b160706cc7b3",
   "metadata": {},
   "source": [
    "**Practice:  Use seaborn to create a **density** histogram showing the distribution of the babies' birth weights.  \n",
    "Include the Kernal Density Estimate (KDE) graph on your histogram:**"
   ]
  },
  {
   "cell_type": "code",
   "execution_count": null,
   "id": "8a3a9dff-ad6d-440a-854f-ea8b0123938e",
   "metadata": {},
   "outputs": [],
   "source": [
    "..."
   ]
  },
  {
   "cell_type": "code",
   "execution_count": null,
   "id": "c363a0b5-6683-4b11-8310-fcca9fd7ff02",
   "metadata": {},
   "outputs": [],
   "source": [
    "# We can also use plotly\n",
    "px.histogram(births, x = 'Maternal Pregnancy Weight')"
   ]
  },
  {
   "cell_type": "markdown",
   "id": "fdc3ca93-82c9-4d86-8718-8501a479828b",
   "metadata": {},
   "source": [
    "**Practice:  How many data points have baby weights between [110,115) oz?**"
   ]
  },
  {
   "cell_type": "code",
   "execution_count": null,
   "id": "ccc75a51-fe6d-4818-bbf4-7f5c1dbdfc68",
   "metadata": {},
   "outputs": [],
   "source": []
  },
  {
   "cell_type": "markdown",
   "id": "53ac4412-9d03-457d-9b73-e341d388ad9a",
   "metadata": {},
   "source": [
    "### Percentiles\n",
    "\n",
    "The nth percentile is that value q such that n% of the data values fall at or below it. "
   ]
  },
  {
   "cell_type": "code",
   "execution_count": null,
   "id": "646533a5-807f-4e33-a1de-523ab091cad9",
   "metadata": {},
   "outputs": [],
   "source": [
    "p10= np.percentile(births['Maternal Pregnancy Weight'], 10)\n",
    "\n",
    "\n",
    "births['category'] = None\n",
    "births.loc[(births['Maternal Pregnancy Weight'] <= p10), 'category'] = 'Less than the 10th percentile'\n",
    "births.loc[(births['Maternal Pregnancy Weight'] > p10) , 'category'] = 'Greater than the 10th percentile'\n",
    "\n",
    "sns.histplot(births, x = 'Maternal Pregnancy Weight', hue = 'category', bins = 35, stat='density');\n",
    "\n",
    "births.drop(columns = ['category'], inplace = True)\n",
    "\n",
    "#Mark the 10th percentile on the graph\n",
    "plt.scatter(p10, -.001, marker='^', color='red', s=400)\n",
    "\n",
    "print(p10)"
   ]
  },
  {
   "cell_type": "code",
   "execution_count": null,
   "id": "a7ef9319-6fc6-4f64-b306-0931c52be9c6",
   "metadata": {},
   "outputs": [],
   "source": [
    "q1, median, q3 = np.percentile(births['Maternal Pregnancy Weight'], [25, 50, 75])\n",
    "iqr = q3 - q1\n",
    "\n",
    "births['category'] = None\n",
    "births.loc[(births['Maternal Pregnancy Weight'] <= q1) | (births['Maternal Pregnancy Weight'] >= q3), 'category'] = 'Outside of the middle 50%'\n",
    "births.loc[(births['Maternal Pregnancy Weight'] > q1) & (births['Maternal Pregnancy Weight'] < q3), 'category'] = 'In the middle 50%'\n",
    "\n",
    "sns.histplot(births, x = 'Maternal Pregnancy Weight', hue = 'category', bins = 35\n",
    "             , stat = \"density\");\n",
    "\n",
    "births.drop(columns = ['category'], inplace = True)\n",
    "\n",
    "\n",
    "plt.scatter(q1, -.001, marker='^', color='orange', s=400)\n",
    "\n",
    "plt.scatter(median, -.001, marker='^', color='red', s=400)\n",
    "\n",
    "plt.scatter(q3, -.001, marker='^', color='green', s=400)\n",
    "\n",
    "display([q1, median, q3])"
   ]
  },
  {
   "cell_type": "markdown",
   "id": "821c8e0c-0455-4b01-a685-82d4dbfdf840",
   "metadata": {},
   "source": []
  },
  {
   "cell_type": "markdown",
   "id": "9afdd260-a3f8-4ac1-99cd-49eb1a05d426",
   "metadata": {
    "tags": []
   },
   "source": [
    "## Box Plots"
   ]
  },
  {
   "cell_type": "code",
   "execution_count": null,
   "id": "048f4396-2cec-44c8-b47c-b42d6a73e917",
   "metadata": {},
   "outputs": [],
   "source": [
    "plt.figure(figsize = (3, 6))\n",
    "sns.boxplot(data = births, y = 'Maternal Pregnancy Weight');"
   ]
  },
  {
   "cell_type": "code",
   "execution_count": null,
   "id": "2f719a54-052d-4ed0-a599-ea386d3bbaf2",
   "metadata": {},
   "outputs": [],
   "source": [
    "bweights = births['Maternal Pregnancy Weight']\n",
    "q1 = np.percentile(bweights, 25)\n",
    "q2 = np.percentile(bweights, 50)\n",
    "q3 = np.percentile(bweights, 75)\n",
    "iqr = q3 - q1\n",
    "\n",
    "\n",
    "q1, q2, q3"
   ]
  },
  {
   "cell_type": "markdown",
   "id": "f2283a38-c27c-4af6-ba72-6fc4c6f3ac83",
   "metadata": {},
   "source": [
    "**Practice:  Create a boxplot of the distribution of the babies' birth weights**"
   ]
  },
  {
   "cell_type": "code",
   "execution_count": null,
   "id": "df8bf5f3-a011-4bed-876e-bde1ec91b824",
   "metadata": {},
   "outputs": [],
   "source": [
    "..."
   ]
  },
  {
   "cell_type": "markdown",
   "id": "18c137d7-d256-4554-81d3-cc7b98deaf20",
   "metadata": {},
   "source": [
    "**Practice:  Calculate the IQR of the babies' birth weights**"
   ]
  },
  {
   "cell_type": "code",
   "execution_count": null,
   "id": "70ff043d-3d18-47f0-9990-8f0c55db185c",
   "metadata": {},
   "outputs": [],
   "source": [
    "..."
   ]
  },
  {
   "cell_type": "markdown",
   "id": "4c3cac10-a2c2-432d-afae-5ddbd0fdfe35",
   "metadata": {},
   "source": [
    "## Violin Plots"
   ]
  },
  {
   "cell_type": "code",
   "execution_count": null,
   "id": "3044288e-1cbe-4ddb-b0c9-3fe997c8acaf",
   "metadata": {},
   "outputs": [],
   "source": [
    "plt.figure(figsize = (3, 6))\n",
    "sns.violinplot(data = births, y = 'Maternal Pregnancy Weight');\n"
   ]
  },
  {
   "cell_type": "code",
   "execution_count": null,
   "id": "a9bf53f4",
   "metadata": {
    "scrolled": true
   },
   "outputs": [],
   "source": [
    "#You can put a boxplot inside a violin plot...\n",
    "\n",
    "px.violin(births, y = \"Maternal Pregnancy Weight\", box=True, width = 350, height = 450)"
   ]
  },
  {
   "cell_type": "markdown",
   "id": "21b5a97d-cd22-422c-979e-d3a870f5cb0b",
   "metadata": {},
   "source": [
    "## Describing Distributions"
   ]
  },
  {
   "cell_type": "code",
   "execution_count": null,
   "id": "84d508b0-7356-4053-9f45-829aab652b07",
   "metadata": {},
   "outputs": [],
   "source": [
    "median = births['Maternal Pregnancy Weight'].median()\n",
    "mean = births['Maternal Pregnancy Weight'].mean()\n",
    "\n",
    "print(\"Median\", median)\n",
    "print(\"Mean\", mean)"
   ]
  },
  {
   "cell_type": "markdown",
   "id": "a8c49589-339a-42bd-b562-9c1fd3dc72e0",
   "metadata": {},
   "source": [
    "# Visualizing Relationships Between Variables"
   ]
  },
  {
   "cell_type": "markdown",
   "id": "fec939d1-0f63-492b-abde-66739e2f14bb",
   "metadata": {},
   "source": [
    "## Relationships Between 2 Quantitative Variables\n",
    "\n",
    "\n",
    "If both features are quantitative, then we often\n",
    "examine their relationship with a scatter plot.\n",
    "Each point in a scatter plot\n",
    "marks the position of a pair of values for an observation.\n",
    "So we can think of a scatter plot as a two-dimensional rug plot.\n",
    "\n",
    "With scatter plots, we look for linear and simple nonlinear relationships, and we examine the strength of the relationships.\n",
    "We also look to see if a transformation of one or the other or both features leads to a linear relationship."
   ]
  },
  {
   "cell_type": "markdown",
   "id": "c3b64a29-d8fd-4ba6-a42c-8ca9d1a300a6",
   "metadata": {},
   "source": [
    "## Scatter plots"
   ]
  },
  {
   "cell_type": "code",
   "execution_count": null,
   "id": "a9dd303c-731e-46ce-afb1-89af8651cfcc",
   "metadata": {},
   "outputs": [],
   "source": [
    "births.head()"
   ]
  },
  {
   "cell_type": "code",
   "execution_count": null,
   "id": "612a10b8-4c6c-4e84-adce-6aebbf4e5d4e",
   "metadata": {},
   "outputs": [],
   "source": [
    "plt.scatter(births['Maternal Height'], births['Birth Weight']);\n",
    "plt.xlabel('Maternal Height')\n",
    "plt.ylabel('Birth Weight');"
   ]
  },
  {
   "cell_type": "markdown",
   "id": "23659926-5a1c-46d4-a285-04792ab5afc2",
   "metadata": {},
   "source": [
    "Most `matplotlib` functions also accept a `data=` keyword, and when using this mode, you can then refer to x and y as names of columns in the `data` DataFrame, instead of passing the series explicitly:"
   ]
  },
  {
   "cell_type": "code",
   "execution_count": null,
   "id": "bf637845-e9a3-428c-a5f7-effb05bec226",
   "metadata": {},
   "outputs": [],
   "source": [
    "sns.scatterplot(data = births, x = 'Maternal Height', y = 'Birth Weight');"
   ]
  },
  {
   "cell_type": "code",
   "execution_count": null,
   "id": "7b6fb628",
   "metadata": {},
   "outputs": [],
   "source": [
    "# We can add some \"jittering\" to the data to help deal with overplotting\n",
    "\n",
    "sns.stripplot(data = births, x = 'Maternal Height', y = 'Birth Weight', jitter = 0.25);"
   ]
  },
  {
   "cell_type": "markdown",
   "id": "59ccc21b-417f-4893-885a-0d67aa70a5a9",
   "metadata": {},
   "source": [
    "## Hex plots and contour plots"
   ]
  },
  {
   "cell_type": "code",
   "execution_count": null,
   "id": "bf5309f4-54f3-4a9c-85a3-a6f5da6970e9",
   "metadata": {},
   "outputs": [],
   "source": [
    "sns.jointplot(data = births, x = 'Maternal Height', y = 'Birth Weight');"
   ]
  },
  {
   "cell_type": "code",
   "execution_count": null,
   "id": "d36de36f-c3a2-4816-9fcc-1ce1f50c5508",
   "metadata": {},
   "outputs": [],
   "source": [
    "sns.jointplot(data = births, x = 'Maternal Height', y = 'Birth Weight', kind = 'hex');"
   ]
  },
  {
   "cell_type": "code",
   "execution_count": null,
   "id": "5fa51324-38da-42b6-bd30-4df292db60ab",
   "metadata": {},
   "outputs": [],
   "source": [
    "sns.jointplot(data = births, x = 'Maternal Height', y = 'Birth Weight', kind = 'kde', fill = True);"
   ]
  },
  {
   "cell_type": "markdown",
   "id": "6031848e-755c-45c4-96b4-ea6d2d68951f",
   "metadata": {},
   "source": [
    "## Relationships Between Two Qualitative Variables\n",
    "\n",
    "With two qualitative features, we often compare the distribution of one feature\n",
    "across subgroups defined by the other feature. In effect, we hold one feature constant\n",
    "and plot the distribution of the other one. To do this, we can use some of the same plots\n",
    "we used to display the distribution of one qualitative feature, such as a line plot or \n",
    "bar plot.\n",
    "As an example, let's examine the relationship between the suitability of a breed for children and the size of the breed. "
   ]
  },
  {
   "cell_type": "code",
   "execution_count": null,
   "id": "4f38af31-8216-4f49-a437-320bbe558242",
   "metadata": {},
   "outputs": [],
   "source": [
    "dogs = pd.read_csv('data/akc.txt')\n",
    "\n",
    "kids = {1:\"high\", 2:\"medium\", 3:\"low\"}\n",
    "dogs[\"kids\"] = dogs['children'].map(kids)\n",
    "\n",
    "dogs"
   ]
  },
  {
   "cell_type": "markdown",
   "id": "bd89b4ab-7aa2-4fae-9ed1-ef13285c8134",
   "metadata": {},
   "source": [
    "To examine the relationship between these two qualitative features, we calculate three sets of\n",
    "proportions (one each for low, medium, and high suitability). \n",
    "Within each suitability category, we find  the proportion of small, medium, and large dogs. \n",
    "These proportions are displayed in the following table. Notice that each column sums to 1 (equivalent to 100\\%):"
   ]
  },
  {
   "cell_type": "code",
   "execution_count": null,
   "id": "7ecb60c7-02f9-4367-a2b4-2c3b6ea8f0d8",
   "metadata": {
    "tags": [
     "hide-input"
    ]
   },
   "outputs": [],
   "source": [
    "def proportions(series):\n",
    "    return series / sum(series)\n",
    "\n",
    "counts = (dogs.groupby(['kids', 'size'])\n",
    " .size()\n",
    " .rename('count')\n",
    ")\n",
    "\n",
    "prop_table = (counts\n",
    " .unstack(level=1)\n",
    " .reindex(['high', 'medium', 'low'])\n",
    " .apply(proportions, axis=1)\n",
    ")\n",
    "\n",
    "prop_table_t= prop_table.transpose()"
   ]
  },
  {
   "cell_type": "code",
   "execution_count": null,
   "id": "12e97cbb-7e9f-4923-b11c-63d065cf4d08",
   "metadata": {},
   "outputs": [],
   "source": [
    "prop_table_t"
   ]
  },
  {
   "cell_type": "markdown",
   "id": "717c29fa-cf33-41b9-97ce-374d451e3bc0",
   "metadata": {},
   "source": [
    "The line plot that follows provides a visualization of these proportions.\n",
    "There is one \"line\" (set of connected dots) for each suitability level.\n",
    "The connected dots give the breakdown of size within a suitability category.\n",
    "We see that breeds with low suitability for kids are primarily small:"
   ]
  },
  {
   "cell_type": "code",
   "execution_count": null,
   "id": "7d870b27-617f-48e9-bd53-fe1933488004",
   "metadata": {
    "tags": []
   },
   "outputs": [],
   "source": [
    "fig = px.line(prop_table_t, y=prop_table_t.columns, \n",
    "        x=prop_table_t.index, line_dash='kids',\n",
    "        markers=True, width=500, height=250)\n",
    "\n",
    "fig.update_layout(\n",
    "    yaxis_title=\"proportion\", xaxis_title=\"Size\",\n",
    "    legend_title=\"Suitability <br>for children\"\n",
    ")"
   ]
  },
  {
   "cell_type": "markdown",
   "id": "9a92b7f0-5167-464d-97bf-18f59850bb6f",
   "metadata": {},
   "source": [
    "We can also present these proportions as a collection of side-by-side bar plots as shown here:"
   ]
  },
  {
   "cell_type": "code",
   "execution_count": null,
   "id": "6f4ac34e-57b2-4373-a8e1-584ea5a26f91",
   "metadata": {
    "tags": []
   },
   "outputs": [],
   "source": [
    "fig = px.bar(prop_table_t, y=prop_table_t.columns, x=prop_table_t.index,\n",
    "        barmode='group', width=500, height=250)\n",
    "\n",
    "fig.update_layout(\n",
    "    yaxis_title=\"proportion\", xaxis_title=\"Size\", \n",
    "    legend_title=\"Suitability <br>for children\"\n",
    ")"
   ]
  },
  {
   "cell_type": "markdown",
   "id": "122f5d1e-9b40-47cd-8d3f-375d9badb01d",
   "metadata": {},
   "source": [
    "## Relationships Between Mixed Variables"
   ]
  },
  {
   "cell_type": "markdown",
   "id": "6b98e3c8-a34a-4a96-ade1-bc6d32679737",
   "metadata": {
    "tags": []
   },
   "source": [
    "## Side box plots and violin plots"
   ]
  },
  {
   "cell_type": "markdown",
   "id": "9db74de2-a781-470c-8c8e-7ca8227d483f",
   "metadata": {},
   "source": [
    "### Overlaid Histograms"
   ]
  },
  {
   "cell_type": "code",
   "execution_count": null,
   "id": "d247988c-d309-4352-adf9-1542151122a3",
   "metadata": {},
   "outputs": [],
   "source": [
    "# OPTION 1: Using displot\n",
    "sns.displot(data = births, x = 'Birth Weight', stat = 'density', hue = 'Maternal Smoker');"
   ]
  },
  {
   "cell_type": "code",
   "execution_count": null,
   "id": "86b501ff-9f56-414b-b859-b919c8d2298b",
   "metadata": {},
   "outputs": [],
   "source": [
    "#OPTION 2;  Using Matplotlib\n",
    "\n",
    "non_smoker = births[births[\"Maternal Smoker\"]==False]\n",
    "\n",
    "smoker = births[births[\"Maternal Smoker\"]==True]\n",
    "\n",
    "plt.hist(non_smoker[\"Birth Weight\"], density=True, alpha=0.5);\n",
    "\n",
    "plt.hist(smoker[\"Birth Weight\"], density=True, alpha =.7);"
   ]
  },
  {
   "cell_type": "code",
   "execution_count": null,
   "id": "8a986ed7-1b07-470a-9668-a7f84c15e62f",
   "metadata": {},
   "outputs": [],
   "source": [
    "sns.displot(data = births, x = 'Birth Weight', kde = True, stat = 'density', hue = 'Maternal Smoker');"
   ]
  },
  {
   "cell_type": "code",
   "execution_count": null,
   "id": "41a06ef1-c64e-4571-a770-b349c4ba1849",
   "metadata": {},
   "outputs": [],
   "source": [
    "sns.displot(data = births, x = 'Birth Weight', kind = 'kde', hue = 'Maternal Smoker');"
   ]
  },
  {
   "cell_type": "code",
   "execution_count": null,
   "id": "55554463-a853-4033-8c41-14e8d9cd6062",
   "metadata": {},
   "outputs": [],
   "source": [
    "plt.figure(figsize=(5, 8))\n",
    "sns.boxplot(data = births, x = 'Maternal Smoker', y = 'Birth Weight');"
   ]
  },
  {
   "cell_type": "code",
   "execution_count": null,
   "id": "8974055c-c1a1-4245-b459-92f44a29ff6f",
   "metadata": {},
   "outputs": [],
   "source": [
    "plt.figure(figsize=(5, 8))\n",
    "sns.violinplot(data = births, x = 'Maternal Smoker', y = 'Birth Weight');"
   ]
  },
  {
   "cell_type": "code",
   "execution_count": null,
   "id": "f802b348-7d87-43d5-8129-c387663f6264",
   "metadata": {},
   "outputs": [],
   "source": [
    "plt.figure(figsize=(5, 8))\n",
    "sns.violinplot(data = births, x = 'Maternal Smoker', y = 'Birth Weight');"
   ]
  },
  {
   "cell_type": "markdown",
   "id": "1e229373-4ec2-4731-be70-603a1bb25b69",
   "metadata": {},
   "source": [
    "## Visualizing More than 2 Variables\n",
    "\n",
    "\n",
    "Here we summarize the various plotting techniques for making comparisons when we have three (or more) features:\n",
    "\n",
    "**Two quantitative and one qualitative:** You can use a scatter plot that varies the markers according to the qualitative feature’s categories, or by the panels of scatter plots, with one for each category.\n",
    "\n"
   ]
  },
  {
   "cell_type": "code",
   "execution_count": null,
   "id": "7ca03745-b298-4f16-a5c1-3a6a4d5e8c74",
   "metadata": {},
   "outputs": [],
   "source": [
    "sns.scatterplot(data = births, x = 'Maternal Height', y = 'Birth Weight', \n",
    "           ci = False, hue = 'Maternal Smoker');"
   ]
  },
  {
   "cell_type": "code",
   "execution_count": null,
   "id": "8704f86a-65d1-455a-9e92-9575ca653714",
   "metadata": {},
   "outputs": [],
   "source": [
    "sns.jointplot(data = births, x = 'Maternal Height', y = 'Birth Weight', hue = 'Maternal Smoker');"
   ]
  },
  {
   "cell_type": "code",
   "execution_count": null,
   "id": "c77258d4-e4ff-48c2-bfc0-9e5df43a63e2",
   "metadata": {},
   "outputs": [],
   "source": [
    "sns.jointplot(data = births, x = 'Maternal Height', y = 'Birth Weight', kind = 'kde', hue = 'Maternal Smoker');"
   ]
  },
  {
   "cell_type": "markdown",
   "id": "4673c586-9b50-43ab-a7d3-661358bce94b",
   "metadata": {},
   "source": [
    "**Two qualitative and one quantitative feature:** We can compare the basic shape of a distribution across subgroups with side-by-side box plots. When we have two or more qualitative features, we can organize the box plots into groups according to one of the qualitative features.\n",
    "\n",
    "**Three quantitative features:** We can use a similar technique when we plot two quantitative features and one qualitative. This time, we convert one of the quantitative features into an ordinal feature, where each category typically has roughly the same number of records. Then we make faceted scatter plots of the other two features. We again look for similarities in relationships across the facets.\n",
    "\n",
    "**Three qualitative features:** \n",
    "When we examine relationships between qualitative features, we examine proportions of one feature within subgroups defined by another. In the previous section, the three line plots in one figure and the side-by-side bar plots both display such comparisons. With three (or more) qualitative features, we can continue to subdivide the data according to the combinations of levels of the features and compare these proportions using line plots, dot plots, side-by-side bar charts, and so forth. But these plots tend to get increasingly difficult to understand with further subdivisions."
   ]
  },
  {
   "cell_type": "code",
   "execution_count": null,
   "id": "9cab2b64-20aa-4465-9174-b113a81ad9f8",
   "metadata": {},
   "outputs": [],
   "source": []
  }
 ],
 "metadata": {
  "kernelspec": {
   "display_name": "Python 3 (ipykernel)",
   "language": "python",
   "name": "python3"
  },
  "language_info": {
   "codemirror_mode": {
    "name": "ipython",
    "version": 3
   },
   "file_extension": ".py",
   "mimetype": "text/x-python",
   "name": "python",
   "nbconvert_exporter": "python",
   "pygments_lexer": "ipython3",
   "version": "3.9.19"
  }
 },
 "nbformat": 4,
 "nbformat_minor": 5
}
